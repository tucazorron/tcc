{
  "cells": [
    {
      "cell_type": "code",
      "execution_count": 49,
      "metadata": {
        "id": "C5k4PmFqpwYA"
      },
      "outputs": [],
      "source": [
        "import pandas as pd\n",
        "import random\n",
        "base = 'database.csv'\n",
        "\n",
        "data = pd.read_csv(base)\n",
        "data = data[[\"is_retweet\",\"text\"]]"
      ]
    },
    {
      "cell_type": "code",
      "execution_count": 50,
      "metadata": {
        "id": "464xWn4SpwYB"
      },
      "outputs": [],
      "source": [
        "IMPORTANT = 1\n",
        "ABSTAIN = 0"
      ]
    },
    {
      "cell_type": "code",
      "execution_count": 51,
      "metadata": {
        "id": "YACsonFXpwYC",
        "outputId": "6a6229f1-ebca-4c49-b5f8-a91c0c927aa3"
      },
      "outputs": [
        {
          "data": {
            "text/html": [
              "<div>\n",
              "<style scoped>\n",
              "    .dataframe tbody tr th:only-of-type {\n",
              "        vertical-align: middle;\n",
              "    }\n",
              "\n",
              "    .dataframe tbody tr th {\n",
              "        vertical-align: top;\n",
              "    }\n",
              "\n",
              "    .dataframe thead th {\n",
              "        text-align: right;\n",
              "    }\n",
              "</style>\n",
              "<table border=\"1\" class=\"dataframe\">\n",
              "  <thead>\n",
              "    <tr style=\"text-align: right;\">\n",
              "      <th></th>\n",
              "      <th>is_retweet</th>\n",
              "      <th>text</th>\n",
              "    </tr>\n",
              "  </thead>\n",
              "  <tbody>\n",
              "    <tr>\n",
              "      <th>0</th>\n",
              "      <td>False</td>\n",
              "      <td>From Donald Trump: Wishing everyone a wonderfu...</td>\n",
              "    </tr>\n",
              "    <tr>\n",
              "      <th>1</th>\n",
              "      <td>False</td>\n",
              "      <td>Trump International Tower in Chicago ranked 6t...</td>\n",
              "    </tr>\n",
              "    <tr>\n",
              "      <th>2</th>\n",
              "      <td>False</td>\n",
              "      <td>Wishing you and yours a very Happy and Bountif...</td>\n",
              "    </tr>\n",
              "    <tr>\n",
              "      <th>3</th>\n",
              "      <td>False</td>\n",
              "      <td>Donald Trump Partners with TV1 on New Reality ...</td>\n",
              "    </tr>\n",
              "    <tr>\n",
              "      <th>4</th>\n",
              "      <td>False</td>\n",
              "      <td>--Work has begun, ahead of schedule, to build ...</td>\n",
              "    </tr>\n",
              "    <tr>\n",
              "      <th>...</th>\n",
              "      <td>...</td>\n",
              "      <td>...</td>\n",
              "    </tr>\n",
              "    <tr>\n",
              "      <th>35214</th>\n",
              "      <td>False</td>\n",
              "      <td>.@ICEgov HSI agents and ERO officers, on behal...</td>\n",
              "    </tr>\n",
              "    <tr>\n",
              "      <th>35215</th>\n",
              "      <td>False</td>\n",
              "      <td>Thank you @GOPLeader Kevin McCarthy! Couldn’t ...</td>\n",
              "    </tr>\n",
              "    <tr>\n",
              "      <th>35216</th>\n",
              "      <td>False</td>\n",
              "      <td>As I made very clear today, our country needs ...</td>\n",
              "    </tr>\n",
              "    <tr>\n",
              "      <th>35217</th>\n",
              "      <td>True</td>\n",
              "      <td>RT @Scavino45: “Utilities cutting rates, cite ...</td>\n",
              "    </tr>\n",
              "    <tr>\n",
              "      <th>35218</th>\n",
              "      <td>False</td>\n",
              "      <td>Today, it was my great honor to sign a new Exe...</td>\n",
              "    </tr>\n",
              "  </tbody>\n",
              "</table>\n",
              "<p>35219 rows × 2 columns</p>\n",
              "</div>"
            ],
            "text/plain": [
              "       is_retweet                                               text\n",
              "0           False  From Donald Trump: Wishing everyone a wonderfu...\n",
              "1           False  Trump International Tower in Chicago ranked 6t...\n",
              "2           False  Wishing you and yours a very Happy and Bountif...\n",
              "3           False  Donald Trump Partners with TV1 on New Reality ...\n",
              "4           False  --Work has begun, ahead of schedule, to build ...\n",
              "...           ...                                                ...\n",
              "35214       False  .@ICEgov HSI agents and ERO officers, on behal...\n",
              "35215       False  Thank you @GOPLeader Kevin McCarthy! Couldn’t ...\n",
              "35216       False  As I made very clear today, our country needs ...\n",
              "35217        True  RT @Scavino45: “Utilities cutting rates, cite ...\n",
              "35218       False  Today, it was my great honor to sign a new Exe...\n",
              "\n",
              "[35219 rows x 2 columns]"
            ]
          },
          "execution_count": 51,
          "metadata": {},
          "output_type": "execute_result"
        }
      ],
      "source": [
        "data"
      ]
    },
    {
      "cell_type": "code",
      "execution_count": 52,
      "metadata": {
        "id": "WgifmJavpwYD"
      },
      "outputs": [],
      "source": [
        "from sklearn.model_selection import train_test_split\n",
        "df_train, df_test = train_test_split(data,train_size=0.8)"
      ]
    },
    {
      "cell_type": "code",
      "execution_count": 53,
      "metadata": {
        "id": "xSIEICbJpwYD"
      },
      "outputs": [],
      "source": [
        "from snorkel.labeling import labeling_function,PandasLFApplier,LFAnalysis"
      ]
    },
    {
      "cell_type": "code",
      "execution_count": 54,
      "metadata": {
        "id": "0tDjg-VopwYE"
      },
      "outputs": [],
      "source": [
        "@labeling_function()\n",
        "def label1(x):\n",
        "    return IMPORTANT if \"vaccine\" in x.text.lower() else ABSTAIN\n",
        "\n",
        "\n",
        "@labeling_function()\n",
        "def label2(x):\n",
        "    return IMPORTANT if \"trump\" in x.text.lower() else ABSTAIN\n",
        "\n",
        "\n",
        "@labeling_function()\n",
        "def label3(x):\n",
        "    return IMPORTANT if \"pandemic\" in x.text.lower() else ABSTAIN"
      ]
    },
    {
      "cell_type": "code",
      "execution_count": 55,
      "metadata": {
        "id": "gfRw03FApwYF"
      },
      "outputs": [],
      "source": [
        "lfs = [label1, label2, label3]"
      ]
    },
    {
      "cell_type": "code",
      "execution_count": 56,
      "metadata": {
        "id": "zTo9VamtpwYF",
        "outputId": "a4d943c8-69be-4bf0-bb44-334740e6107a"
      },
      "outputs": [
        {
          "name": "stderr",
          "output_type": "stream",
          "text": [
            "100%|██████████| 28175/28175 [00:01<00:00, 26672.69it/s]\n"
          ]
        }
      ],
      "source": [
        "applier = PandasLFApplier(lfs=lfs)\n",
        "L_train = applier.apply(df=df_train)"
      ]
    },
    {
      "cell_type": "code",
      "execution_count": 57,
      "metadata": {
        "id": "hEZwm0OGpwYG",
        "outputId": "a7a80fd0-ae7c-404b-c5e6-6dd30670eb98"
      },
      "outputs": [
        {
          "data": {
            "text/plain": [
              "array([[0, 0, 0],\n",
              "       [0, 0, 0],\n",
              "       [0, 0, 0],\n",
              "       ...,\n",
              "       [0, 1, 0],\n",
              "       [0, 1, 0],\n",
              "       [0, 0, 0]])"
            ]
          },
          "execution_count": 57,
          "metadata": {},
          "output_type": "execute_result"
        }
      ],
      "source": [
        "L_train"
      ]
    },
    {
      "cell_type": "code",
      "execution_count": 58,
      "metadata": {
        "id": "stiFgHwlpwYH",
        "outputId": "257b283a-07d3-43b6-9f64-c8c4626ab5a2"
      },
      "outputs": [
        {
          "data": {
            "text/html": [
              "<div>\n",
              "<style scoped>\n",
              "    .dataframe tbody tr th:only-of-type {\n",
              "        vertical-align: middle;\n",
              "    }\n",
              "\n",
              "    .dataframe tbody tr th {\n",
              "        vertical-align: top;\n",
              "    }\n",
              "\n",
              "    .dataframe thead th {\n",
              "        text-align: right;\n",
              "    }\n",
              "</style>\n",
              "<table border=\"1\" class=\"dataframe\">\n",
              "  <thead>\n",
              "    <tr style=\"text-align: right;\">\n",
              "      <th></th>\n",
              "      <th>j</th>\n",
              "      <th>Polarity</th>\n",
              "      <th>Coverage</th>\n",
              "      <th>Overlaps</th>\n",
              "      <th>Conflicts</th>\n",
              "    </tr>\n",
              "  </thead>\n",
              "  <tbody>\n",
              "    <tr>\n",
              "      <th>label1</th>\n",
              "      <td>0</td>\n",
              "      <td>[0, 1]</td>\n",
              "      <td>1.0</td>\n",
              "      <td>1.0</td>\n",
              "      <td>0.38921</td>\n",
              "    </tr>\n",
              "    <tr>\n",
              "      <th>label2</th>\n",
              "      <td>1</td>\n",
              "      <td>[0, 1]</td>\n",
              "      <td>1.0</td>\n",
              "      <td>1.0</td>\n",
              "      <td>0.38921</td>\n",
              "    </tr>\n",
              "    <tr>\n",
              "      <th>label3</th>\n",
              "      <td>2</td>\n",
              "      <td>[0, 1]</td>\n",
              "      <td>1.0</td>\n",
              "      <td>1.0</td>\n",
              "      <td>0.38921</td>\n",
              "    </tr>\n",
              "  </tbody>\n",
              "</table>\n",
              "</div>"
            ],
            "text/plain": [
              "        j Polarity  Coverage  Overlaps  Conflicts\n",
              "label1  0   [0, 1]       1.0       1.0    0.38921\n",
              "label2  1   [0, 1]       1.0       1.0    0.38921\n",
              "label3  2   [0, 1]       1.0       1.0    0.38921"
            ]
          },
          "execution_count": 58,
          "metadata": {},
          "output_type": "execute_result"
        }
      ],
      "source": [
        "LFAnalysis(L=L_train,lfs=lfs).lf_summary()"
      ]
    },
    {
      "cell_type": "code",
      "execution_count": 59,
      "metadata": {
        "id": "iwYox2nQpwYH"
      },
      "outputs": [],
      "source": [
        "from snorkel.labeling.model import MajorityLabelVoter,LabelModel"
      ]
    },
    {
      "cell_type": "code",
      "execution_count": 60,
      "metadata": {
        "id": "bejiWbhSpwYH",
        "outputId": "fd12a7aa-d330-4572-911e-bdd933504c99"
      },
      "outputs": [
        {
          "name": "stderr",
          "output_type": "stream",
          "text": [
            "INFO:root:Computing O...\n",
            "INFO:root:Estimating \\mu...\n",
            "  0%|          | 0/500 [00:00<?, ?epoch/s]INFO:root:[0 epochs]: TRAIN:[loss=3.388]\n",
            "INFO:root:[100 epochs]: TRAIN:[loss=0.003]\n",
            " 34%|███▍      | 171/500 [00:00<00:00, 1708.12epoch/s]INFO:root:[200 epochs]: TRAIN:[loss=0.001]\n",
            "INFO:root:[300 epochs]: TRAIN:[loss=0.001]\n",
            " 73%|███████▎  | 366/500 [00:00<00:00, 1849.34epoch/s]INFO:root:[400 epochs]: TRAIN:[loss=0.000]\n",
            "100%|██████████| 500/500 [00:00<00:00, 1856.41epoch/s]\n",
            "INFO:root:Finished Training\n"
          ]
        }
      ],
      "source": [
        "label_model = LabelModel(cardinality=2,verbose=True)\n",
        "label_model.fit(L_train=L_train,n_epochs=500,log_freq=100,seed=123)"
      ]
    },
    {
      "cell_type": "code",
      "execution_count": 61,
      "metadata": {
        "id": "D1MjN8iDpwYI",
        "outputId": "46937718-5ae0-49c7-a25c-b0046b511c69"
      },
      "outputs": [
        {
          "data": {
            "text/html": [
              "<div>\n",
              "<style scoped>\n",
              "    .dataframe tbody tr th:only-of-type {\n",
              "        vertical-align: middle;\n",
              "    }\n",
              "\n",
              "    .dataframe tbody tr th {\n",
              "        vertical-align: top;\n",
              "    }\n",
              "\n",
              "    .dataframe thead th {\n",
              "        text-align: right;\n",
              "    }\n",
              "</style>\n",
              "<table border=\"1\" class=\"dataframe\">\n",
              "  <thead>\n",
              "    <tr style=\"text-align: right;\">\n",
              "      <th></th>\n",
              "      <th>is_retweet</th>\n",
              "      <th>text</th>\n",
              "    </tr>\n",
              "  </thead>\n",
              "  <tbody>\n",
              "    <tr>\n",
              "      <th>1449</th>\n",
              "      <td>False</td>\n",
              "      <td>If you treat people right they will treat you ...</td>\n",
              "    </tr>\n",
              "    <tr>\n",
              "      <th>25120</th>\n",
              "      <td>False</td>\n",
              "      <td>They just arrested pol Shelly Silver in New Yo...</td>\n",
              "    </tr>\n",
              "    <tr>\n",
              "      <th>32317</th>\n",
              "      <td>False</td>\n",
              "      <td>ObamaCare will explode and we will all get tog...</td>\n",
              "    </tr>\n",
              "    <tr>\n",
              "      <th>21914</th>\n",
              "      <td>False</td>\n",
              "      <td>\"@BettyeBear: @realDonaldTrump Every working c...</td>\n",
              "    </tr>\n",
              "    <tr>\n",
              "      <th>1610</th>\n",
              "      <td>False</td>\n",
              "      <td>Aberdeen tourism is booming because of my grea...</td>\n",
              "    </tr>\n",
              "  </tbody>\n",
              "</table>\n",
              "</div>"
            ],
            "text/plain": [
              "       is_retweet                                               text\n",
              "1449        False  If you treat people right they will treat you ...\n",
              "25120       False  They just arrested pol Shelly Silver in New Yo...\n",
              "32317       False  ObamaCare will explode and we will all get tog...\n",
              "21914       False  \"@BettyeBear: @realDonaldTrump Every working c...\n",
              "1610        False  Aberdeen tourism is booming because of my grea..."
            ]
          },
          "execution_count": 61,
          "metadata": {},
          "output_type": "execute_result"
        }
      ],
      "source": [
        "df_train.head()"
      ]
    },
    {
      "cell_type": "code",
      "execution_count": 62,
      "metadata": {
        "id": "y76JQqIMpwYI",
        "outputId": "4bb1b87c-e7fb-44aa-868b-8c25ce7864fe"
      },
      "outputs": [
        {
          "name": "stderr",
          "output_type": "stream",
          "text": [
            "/var/folders/47/2r15btws4hl473544pb4_s700000gp/T/ipykernel_65770/1145111523.py:1: SettingWithCopyWarning: \n",
            "A value is trying to be set on a copy of a slice from a DataFrame.\n",
            "Try using .loc[row_indexer,col_indexer] = value instead\n",
            "\n",
            "See the caveats in the documentation: https://pandas.pydata.org/pandas-docs/stable/user_guide/indexing.html#returning-a-view-versus-a-copy\n",
            "  df_train['Labels'] = label_model.predict(L=L_train,tie_break_policy=\"abstain\")\n"
          ]
        }
      ],
      "source": [
        "df_train['Labels'] = label_model.predict(L=L_train,tie_break_policy=\"abstain\")"
      ]
    },
    {
      "cell_type": "code",
      "execution_count": 63,
      "metadata": {
        "id": "B-cCv7U5pwYJ",
        "outputId": "504ae03d-e456-4c27-c1dd-8f86ae84aefc"
      },
      "outputs": [
        {
          "data": {
            "text/html": [
              "<div>\n",
              "<style scoped>\n",
              "    .dataframe tbody tr th:only-of-type {\n",
              "        vertical-align: middle;\n",
              "    }\n",
              "\n",
              "    .dataframe tbody tr th {\n",
              "        vertical-align: top;\n",
              "    }\n",
              "\n",
              "    .dataframe thead th {\n",
              "        text-align: right;\n",
              "    }\n",
              "</style>\n",
              "<table border=\"1\" class=\"dataframe\">\n",
              "  <thead>\n",
              "    <tr style=\"text-align: right;\">\n",
              "      <th></th>\n",
              "      <th>is_retweet</th>\n",
              "      <th>text</th>\n",
              "      <th>Labels</th>\n",
              "    </tr>\n",
              "  </thead>\n",
              "  <tbody>\n",
              "    <tr>\n",
              "      <th>1449</th>\n",
              "      <td>False</td>\n",
              "      <td>If you treat people right they will treat you ...</td>\n",
              "      <td>0</td>\n",
              "    </tr>\n",
              "    <tr>\n",
              "      <th>25120</th>\n",
              "      <td>False</td>\n",
              "      <td>They just arrested pol Shelly Silver in New Yo...</td>\n",
              "      <td>0</td>\n",
              "    </tr>\n",
              "    <tr>\n",
              "      <th>32317</th>\n",
              "      <td>False</td>\n",
              "      <td>ObamaCare will explode and we will all get tog...</td>\n",
              "      <td>0</td>\n",
              "    </tr>\n",
              "    <tr>\n",
              "      <th>21914</th>\n",
              "      <td>False</td>\n",
              "      <td>\"@BettyeBear: @realDonaldTrump Every working c...</td>\n",
              "      <td>0</td>\n",
              "    </tr>\n",
              "    <tr>\n",
              "      <th>1610</th>\n",
              "      <td>False</td>\n",
              "      <td>Aberdeen tourism is booming because of my grea...</td>\n",
              "      <td>0</td>\n",
              "    </tr>\n",
              "    <tr>\n",
              "      <th>...</th>\n",
              "      <td>...</td>\n",
              "      <td>...</td>\n",
              "      <td>...</td>\n",
              "    </tr>\n",
              "    <tr>\n",
              "      <th>23766</th>\n",
              "      <td>False</td>\n",
              "      <td>\"@gabriellebragg4: How do I find out where @re...</td>\n",
              "      <td>0</td>\n",
              "    </tr>\n",
              "    <tr>\n",
              "      <th>7763</th>\n",
              "      <td>False</td>\n",
              "      <td>.@TrumpDoral’s record $200M renovations are on...</td>\n",
              "      <td>0</td>\n",
              "    </tr>\n",
              "    <tr>\n",
              "      <th>15377</th>\n",
              "      <td>False</td>\n",
              "      <td>\"@TheBigJamesG  staff at Trump Doral was amazi...</td>\n",
              "      <td>0</td>\n",
              "    </tr>\n",
              "    <tr>\n",
              "      <th>17730</th>\n",
              "      <td>False</td>\n",
              "      <td>\"@pandoerra: @realDonaldTrump I think you coul...</td>\n",
              "      <td>0</td>\n",
              "    </tr>\n",
              "    <tr>\n",
              "      <th>28030</th>\n",
              "      <td>False</td>\n",
              "      <td>How long did it take your staff of 823 people ...</td>\n",
              "      <td>0</td>\n",
              "    </tr>\n",
              "  </tbody>\n",
              "</table>\n",
              "<p>28175 rows × 3 columns</p>\n",
              "</div>"
            ],
            "text/plain": [
              "       is_retweet                                               text  Labels\n",
              "1449        False  If you treat people right they will treat you ...       0\n",
              "25120       False  They just arrested pol Shelly Silver in New Yo...       0\n",
              "32317       False  ObamaCare will explode and we will all get tog...       0\n",
              "21914       False  \"@BettyeBear: @realDonaldTrump Every working c...       0\n",
              "1610        False  Aberdeen tourism is booming because of my grea...       0\n",
              "...           ...                                                ...     ...\n",
              "23766       False  \"@gabriellebragg4: How do I find out where @re...       0\n",
              "7763        False  .@TrumpDoral’s record $200M renovations are on...       0\n",
              "15377       False  \"@TheBigJamesG  staff at Trump Doral was amazi...       0\n",
              "17730       False  \"@pandoerra: @realDonaldTrump I think you coul...       0\n",
              "28030       False  How long did it take your staff of 823 people ...       0\n",
              "\n",
              "[28175 rows x 3 columns]"
            ]
          },
          "execution_count": 63,
          "metadata": {},
          "output_type": "execute_result"
        }
      ],
      "source": [
        "df_train.query('Labels == 0')"
      ]
    }
  ],
  "metadata": {
    "colab": {
      "collapsed_sections": [],
      "name": "LFs-Covid.ipynb",
      "provenance": []
    },
    "interpreter": {
      "hash": "916dbcbb3f70747c44a77c7bcd40155683ae19c65e1c03b4aa3499c5328201f1"
    },
    "kernelspec": {
      "display_name": "Python 3.8.10 64-bit",
      "language": "python",
      "name": "python3"
    },
    "language_info": {
      "codemirror_mode": {
        "name": "ipython",
        "version": 3
      },
      "file_extension": ".py",
      "mimetype": "text/x-python",
      "name": "python",
      "nbconvert_exporter": "python",
      "pygments_lexer": "ipython3",
      "version": "3.9.12"
    },
    "orig_nbformat": 4
  },
  "nbformat": 4,
  "nbformat_minor": 0
}
