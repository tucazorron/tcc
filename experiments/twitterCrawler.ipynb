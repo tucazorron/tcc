{
  "cells": [
    {
      "cell_type": "code",
      "execution_count": 2,
      "metadata": {},
      "outputs": [
        {
          "ename": "ImportError",
          "evalue": "cannot import name 'TweepError' from 'tweepy' (/usr/local/lib/python3.9/site-packages/tweepy/__init__.py)",
          "output_type": "error",
          "traceback": [
            "\u001b[0;31m---------------------------------------------------------------------------\u001b[0m",
            "\u001b[0;31mImportError\u001b[0m                               Traceback (most recent call last)",
            "\u001b[1;32m/Users/arturzorron/unb/tcc/repo-tcc/twitterCrawler.ipynb Cell 1'\u001b[0m in \u001b[0;36m<cell line: 2>\u001b[0;34m()\u001b[0m\n\u001b[1;32m      <a href='vscode-notebook-cell:/Users/arturzorron/unb/tcc/repo-tcc/twitterCrawler.ipynb#ch0000000?line=0'>1</a>\u001b[0m \u001b[39mimport\u001b[39;00m \u001b[39mtweepy\u001b[39;00m\n\u001b[0;32m----> <a href='vscode-notebook-cell:/Users/arturzorron/unb/tcc/repo-tcc/twitterCrawler.ipynb#ch0000000?line=1'>2</a>\u001b[0m \u001b[39mfrom\u001b[39;00m \u001b[39mtweepy\u001b[39;00m \u001b[39mimport\u001b[39;00m TweepError\n\u001b[1;32m      <a href='vscode-notebook-cell:/Users/arturzorron/unb/tcc/repo-tcc/twitterCrawler.ipynb#ch0000000?line=2'>3</a>\u001b[0m \u001b[39mimport\u001b[39;00m \u001b[39mtime\u001b[39;00m\n",
            "\u001b[0;31mImportError\u001b[0m: cannot import name 'TweepError' from 'tweepy' (/usr/local/lib/python3.9/site-packages/tweepy/__init__.py)"
          ]
        }
      ],
      "source": [
        "import tweepy\n",
        "from tweepy import TweepError\n",
        "import time"
      ]
    },
    {
      "cell_type": "code",
      "execution_count": 6,
      "metadata": {},
      "outputs": [],
      "source": [
        "class Crawler():\n",
        "\n",
        "    def init_access_tokens(self):\n",
        "\n",
        "        \"Função para inicializar a comunicação com a API tweepy\"\n",
        "\n",
        "        consumer_key = 'xYCwSVf647e9pMpFMxmBLOVzK'\n",
        "        consumer_secret = 'oVIZ0MLogzoOgfJVVnbrVAjyPIGo4k17LSP3ooQ8EL31wf5txN'\n",
        "\n",
        "        access_token = '776963137-qHfv1SEJOcbWaDYuOVPkpZFf7sgW9b8bpf9ddilX'\n",
        "        access_token_secret = 'x9T5ODUI3pEGT3nd6MbA4cWROxWlPhHAHEmVhen6DhJH6'\n",
        "\n",
        "        auth = tweepy.OAuthHandler(consumer_key, consumer_secret)\n",
        "        auth.set_access_token(access_token, access_token_secret)\n",
        "\n",
        "        api = tweepy.API(auth, wait_on_rate_limit=True)\n",
        "\n",
        "        return api\n",
        "\n",
        "\n",
        "    def init_search(self, api, keywords, outputDir):\n",
        "\n",
        "        \"Função para extrair tweets a partir de termos de buscas fornecidos\"\n",
        "\n",
        "        for query in keywords:\n",
        "\n",
        "            start_time = time.time()\n",
        "\n",
        "            try:\n",
        "\n",
        "                alltweets = tweepy.Cursor(api.search, q=query, lang=\"pt\", \n",
        "                                          rpp=100, pages=1450, since=\"2015-01-01\", \n",
        "                                          tweet_mode='extended').items(5000)\n",
        "\n",
        "                f = open(\"{}/{}_tweets.csv\".format(outputDir, query), \"w\", encoding='utf-8')\n",
        "\n",
        "                for tweet in alltweets:\n",
        "\n",
        "                    # Ignorar retweets\n",
        "                    if (not tweet.retweeted) and ('RT @' not in tweet.full_text):\n",
        "                        f.write(tweet.id_str)\n",
        "                        f.write(\",\\\"\")\n",
        "                        tweet_aux = tweet.full_text.replace('\\\"', '')\n",
        "                        f.write(tweet_aux.replace('\\n', ' '))\n",
        "                        f.write(\"\\\"\")\n",
        "\n",
        "                    f.write('\\n')\n",
        "\n",
        "            except TweepError as e:\n",
        "\n",
        "                if 'Failed to send request:' in e.reason:\n",
        "                    print (\"Time out error caught.\")\n",
        "                    time.sleep(30)\n",
        "                    print ('{}'.format(query))\n",
        "                    continue\n",
        "\n",
        "            finally:\n",
        "\n",
        "                # Algumas podem levar até 15 min (~ 900 seg)\n",
        "                print (\"--- Query: '{}' levou {} segundos ---\".format(query, round((time.time() - start_time), 3)))\n",
        "\n",
        "            f.close()"
      ]
    },
    {
      "cell_type": "code",
      "execution_count": 7,
      "metadata": {},
      "outputs": [
        {
          "name": "stdout",
          "output_type": "stream",
          "text": [
            "--- Query: 'bek' levou 26.573 segundos ---\n"
          ]
        }
      ],
      "source": [
        "if __name__ == '__main__':\n",
        "    \n",
        "    # Definir os termos a serem buscados\n",
        "    WORD_LIST = ['bek']\n",
        "\n",
        "    # Definir o nome do diretório que irá conter os arquivos gerados\n",
        "    OUTPUT_DIR = '../data/results/'\n",
        "\n",
        "    # Instancia o objeto Crawler\n",
        "    crawler = Crawler()\n",
        "\n",
        "    # Inicializa a comunicação com a api\n",
        "    api = crawler.init_access_tokens()\n",
        "\n",
        "    # Inicializa a busca por termos especificados\n",
        "    crawler.init_search(api=api, keywords=WORD_LIST, outputDir=OUTPUT_DIR)"
      ]
    },
    {
      "cell_type": "markdown",
      "metadata": {},
      "source": [
        "---"
      ]
    }
  ],
  "metadata": {
    "kernelspec": {
      "display_name": "Python 3",
      "language": "python",
      "name": "python3"
    },
    "language_info": {
      "codemirror_mode": {
        "name": "ipython",
        "version": 3
      },
      "file_extension": ".py",
      "mimetype": "text/x-python",
      "name": "python",
      "nbconvert_exporter": "python",
      "pygments_lexer": "ipython3",
      "version": "3.9.12"
    }
  },
  "nbformat": 4,
  "nbformat_minor": 4
}
