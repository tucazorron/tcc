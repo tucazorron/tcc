{
  "cells": [
    {
      "cell_type": "code",
      "execution_count": 19,
      "metadata": {
        "id": "C5k4PmFqpwYA"
      },
      "outputs": [],
      "source": [
        "import pandas as pd\n",
        "import random\n",
        "base = 'database.txt'\n",
        "\n",
        "data = pd.read_csv(base, sep='\\t', header=None)"
      ]
    },
    {
      "cell_type": "code",
      "execution_count": 20,
      "metadata": {
        "id": "464xWn4SpwYB"
      },
      "outputs": [],
      "source": [
        "IMPORTANT = 1\n",
        "ABSTAIN = 0"
      ]
    },
    {
      "cell_type": "code",
      "execution_count": 21,
      "metadata": {
        "id": "YACsonFXpwYC",
        "outputId": "6a6229f1-ebca-4c49-b5f8-a91c0c927aa3"
      },
      "outputs": [
        {
          "data": {
            "text/html": [
              "<div>\n",
              "<style scoped>\n",
              "    .dataframe tbody tr th:only-of-type {\n",
              "        vertical-align: middle;\n",
              "    }\n",
              "\n",
              "    .dataframe tbody tr th {\n",
              "        vertical-align: top;\n",
              "    }\n",
              "\n",
              "    .dataframe thead th {\n",
              "        text-align: right;\n",
              "    }\n",
              "</style>\n",
              "<table border=\"1\" class=\"dataframe\">\n",
              "  <thead>\n",
              "    <tr style=\"text-align: right;\">\n",
              "      <th></th>\n",
              "      <th>0</th>\n",
              "    </tr>\n",
              "  </thead>\n",
              "  <tbody>\n",
              "    <tr>\n",
              "      <th>0</th>\n",
              "      <td>'@galliyanamiteva kkkkkkkkkk eu sou bue caseir...</td>\n",
              "    </tr>\n",
              "    <tr>\n",
              "      <th>1</th>\n",
              "      <td>'Covid-19: Brasil tem 28,7 milhões de casos e ...</td>\n",
              "    </tr>\n",
              "    <tr>\n",
              "      <th>2</th>\n",
              "      <td>'A mesma globo que recentemente defendia o iso...</td>\n",
              "    </tr>\n",
              "    <tr>\n",
              "      <th>3</th>\n",
              "      <td>'Covid era altura de fazeres a tua parte e aju...</td>\n",
              "    </tr>\n",
              "    <tr>\n",
              "      <th>4</th>\n",
              "      <td>'Feriadão prolongado desse e não vou poder ver...</td>\n",
              "    </tr>\n",
              "    <tr>\n",
              "      <th>...</th>\n",
              "      <td>...</td>\n",
              "    </tr>\n",
              "    <tr>\n",
              "      <th>5000095</th>\n",
              "      <td>'@Pequenaquenga É tipo o teste do covid, fazia...</td>\n",
              "    </tr>\n",
              "    <tr>\n",
              "      <th>5000096</th>\n",
              "      <td>'#Cloroquina | Ex-ministro Mandetta reafirmou ...</td>\n",
              "    </tr>\n",
              "    <tr>\n",
              "      <th>5000097</th>\n",
              "      <td>'covid vai embora nunca?'</td>\n",
              "    </tr>\n",
              "    <tr>\n",
              "      <th>5000098</th>\n",
              "      <td>'Dia até agora constrangedor na CPI. Senadores...</td>\n",
              "    </tr>\n",
              "    <tr>\n",
              "      <th>5000099</th>\n",
              "      <td>'é o 3º aluno da minha prof que morr3u esse an...</td>\n",
              "    </tr>\n",
              "  </tbody>\n",
              "</table>\n",
              "<p>5000100 rows × 1 columns</p>\n",
              "</div>"
            ],
            "text/plain": [
              "                                                         0\n",
              "0        '@galliyanamiteva kkkkkkkkkk eu sou bue caseir...\n",
              "1        'Covid-19: Brasil tem 28,7 milhões de casos e ...\n",
              "2        'A mesma globo que recentemente defendia o iso...\n",
              "3        'Covid era altura de fazeres a tua parte e aju...\n",
              "4        'Feriadão prolongado desse e não vou poder ver...\n",
              "...                                                    ...\n",
              "5000095  '@Pequenaquenga É tipo o teste do covid, fazia...\n",
              "5000096  '#Cloroquina | Ex-ministro Mandetta reafirmou ...\n",
              "5000097                          'covid vai embora nunca?'\n",
              "5000098  'Dia até agora constrangedor na CPI. Senadores...\n",
              "5000099  'é o 3º aluno da minha prof que morr3u esse an...\n",
              "\n",
              "[5000100 rows x 1 columns]"
            ]
          },
          "execution_count": 21,
          "metadata": {},
          "output_type": "execute_result"
        }
      ],
      "source": [
        "data"
      ]
    },
    {
      "cell_type": "code",
      "execution_count": 22,
      "metadata": {
        "id": "WgifmJavpwYD"
      },
      "outputs": [],
      "source": [
        "from sklearn.model_selection import train_test_split\n",
        "df_train, df_test = train_test_split(data,train_size=0.8)"
      ]
    },
    {
      "cell_type": "code",
      "execution_count": 23,
      "metadata": {},
      "outputs": [
        {
          "data": {
            "text/html": [
              "<div>\n",
              "<style scoped>\n",
              "    .dataframe tbody tr th:only-of-type {\n",
              "        vertical-align: middle;\n",
              "    }\n",
              "\n",
              "    .dataframe tbody tr th {\n",
              "        vertical-align: top;\n",
              "    }\n",
              "\n",
              "    .dataframe thead th {\n",
              "        text-align: right;\n",
              "    }\n",
              "</style>\n",
              "<table border=\"1\" class=\"dataframe\">\n",
              "  <thead>\n",
              "    <tr style=\"text-align: right;\">\n",
              "      <th></th>\n",
              "      <th>0</th>\n",
              "    </tr>\n",
              "  </thead>\n",
              "  <tbody>\n",
              "    <tr>\n",
              "      <th>3064391</th>\n",
              "      <td>'Auxílio de R$ 500 para órfãos da pandemia da ...</td>\n",
              "    </tr>\n",
              "    <tr>\n",
              "      <th>2689554</th>\n",
              "      <td>'50 mil doses de vacina contra a Covid-19 são ...</td>\n",
              "    </tr>\n",
              "    <tr>\n",
              "      <th>551327</th>\n",
              "      <td>'Bebê leva, por engano, seis doses de vacina c...</td>\n",
              "    </tr>\n",
              "    <tr>\n",
              "      <th>2385985</th>\n",
              "      <td>'A pessoa posta vídeo no fervo e me chama pra ...</td>\n",
              "    </tr>\n",
              "    <tr>\n",
              "      <th>2481171</th>\n",
              "      <td>'Para ler a edição na íntegra, acesse: https:/...</td>\n",
              "    </tr>\n",
              "    <tr>\n",
              "      <th>...</th>\n",
              "      <td>...</td>\n",
              "    </tr>\n",
              "    <tr>\n",
              "      <th>2447081</th>\n",
              "      <td>'Tentando dar uma finalizada no Batman Arkham ...</td>\n",
              "    </tr>\n",
              "    <tr>\n",
              "      <th>642603</th>\n",
              "      <td>'Tô com covid :/\\n\\nPor enquanto ainda bem só ...</td>\n",
              "    </tr>\n",
              "    <tr>\n",
              "      <th>1794899</th>\n",
              "      <td>'@o_antagonista Devem estar com medo que a vov...</td>\n",
              "    </tr>\n",
              "    <tr>\n",
              "      <th>4176519</th>\n",
              "      <td>'@mu_candido @drbluecake @pedromvmartins @gabr...</td>\n",
              "    </tr>\n",
              "    <tr>\n",
              "      <th>1265628</th>\n",
              "      <td>'Eu tô apavorada com tanto de gent testando po...</td>\n",
              "    </tr>\n",
              "  </tbody>\n",
              "</table>\n",
              "<p>4000080 rows × 1 columns</p>\n",
              "</div>"
            ],
            "text/plain": [
              "                                                         0\n",
              "3064391  'Auxílio de R$ 500 para órfãos da pandemia da ...\n",
              "2689554  '50 mil doses de vacina contra a Covid-19 são ...\n",
              "551327   'Bebê leva, por engano, seis doses de vacina c...\n",
              "2385985  'A pessoa posta vídeo no fervo e me chama pra ...\n",
              "2481171  'Para ler a edição na íntegra, acesse: https:/...\n",
              "...                                                    ...\n",
              "2447081  'Tentando dar uma finalizada no Batman Arkham ...\n",
              "642603   'Tô com covid :/\\n\\nPor enquanto ainda bem só ...\n",
              "1794899  '@o_antagonista Devem estar com medo que a vov...\n",
              "4176519  '@mu_candido @drbluecake @pedromvmartins @gabr...\n",
              "1265628  'Eu tô apavorada com tanto de gent testando po...\n",
              "\n",
              "[4000080 rows x 1 columns]"
            ]
          },
          "execution_count": 23,
          "metadata": {},
          "output_type": "execute_result"
        }
      ],
      "source": [
        "df_train"
      ]
    },
    {
      "cell_type": "code",
      "execution_count": 24,
      "metadata": {
        "id": "xSIEICbJpwYD"
      },
      "outputs": [],
      "source": [
        "from snorkel.labeling import labeling_function,PandasLFApplier,LFAnalysis"
      ]
    },
    {
      "cell_type": "code",
      "execution_count": 25,
      "metadata": {
        "id": "0tDjg-VopwYE"
      },
      "outputs": [],
      "source": [
        "@labeling_function()\n",
        "def label1(x):\n",
        "    return IMPORTANT if \"vacina\" in x.text.lower() else ABSTAIN\n",
        "\n",
        "\n",
        "@labeling_function()\n",
        "def label2(x):\n",
        "    return IMPORTANT if \"bolsonaro\" in x.text.lower() else ABSTAIN\n",
        "\n",
        "\n",
        "@labeling_function()\n",
        "def label3(x):\n",
        "    return IMPORTANT if \"pandemia\" in x.text.lower() else ABSTAIN"
      ]
    },
    {
      "cell_type": "code",
      "execution_count": 26,
      "metadata": {
        "id": "gfRw03FApwYF"
      },
      "outputs": [],
      "source": [
        "lfs = [label1, label2, label3]"
      ]
    },
    {
      "cell_type": "code",
      "execution_count": 27,
      "metadata": {
        "id": "zTo9VamtpwYF",
        "outputId": "a4d943c8-69be-4bf0-bb44-334740e6107a"
      },
      "outputs": [],
      "source": [
        "applier = PandasLFApplier(lfs=lfs)"
      ]
    },
    {
      "cell_type": "code",
      "execution_count": 28,
      "metadata": {},
      "outputs": [
        {
          "data": {
            "text/plain": [
              "PandasLFApplier, LFs: ['label1', 'label2', 'label3']"
            ]
          },
          "execution_count": 28,
          "metadata": {},
          "output_type": "execute_result"
        }
      ],
      "source": [
        "applier"
      ]
    },
    {
      "cell_type": "code",
      "execution_count": 29,
      "metadata": {},
      "outputs": [
        {
          "name": "stderr",
          "output_type": "stream",
          "text": [
            "  0%|          | 1/4000080 [00:00<37:47, 1763.79it/s]\n"
          ]
        },
        {
          "ename": "AttributeError",
          "evalue": "'Series' object has no attribute 'text'",
          "output_type": "error",
          "traceback": [
            "\u001b[0;31m---------------------------------------------------------------------------\u001b[0m",
            "\u001b[0;31mAttributeError\u001b[0m                            Traceback (most recent call last)",
            "\u001b[1;32m/Users/arturzorron/unb/tcc/covid/notebook-vitin.ipynb Cell 11'\u001b[0m in \u001b[0;36m<cell line: 1>\u001b[0;34m()\u001b[0m\n\u001b[0;32m----> <a href='vscode-notebook-cell:/Users/arturzorron/unb/tcc/covid/notebook-vitin.ipynb#ch0000016?line=0'>1</a>\u001b[0m L_train \u001b[39m=\u001b[39m applier\u001b[39m.\u001b[39;49mapply(df\u001b[39m=\u001b[39;49mdf_train)\n",
            "File \u001b[0;32m/usr/local/lib/python3.9/site-packages/snorkel/labeling/apply/pandas.py:108\u001b[0m, in \u001b[0;36mPandasLFApplier.apply\u001b[0;34m(self, df, progress_bar, fault_tolerant, return_meta)\u001b[0m\n\u001b[1;32m    <a href='file:///usr/local/lib/python3.9/site-packages/snorkel/labeling/apply/pandas.py?line=105'>106</a>\u001b[0m     tqdm\u001b[39m.\u001b[39mpandas()\n\u001b[1;32m    <a href='file:///usr/local/lib/python3.9/site-packages/snorkel/labeling/apply/pandas.py?line=106'>107</a>\u001b[0m     call_fn \u001b[39m=\u001b[39m df\u001b[39m.\u001b[39mprogress_apply\n\u001b[0;32m--> <a href='file:///usr/local/lib/python3.9/site-packages/snorkel/labeling/apply/pandas.py?line=107'>108</a>\u001b[0m labels \u001b[39m=\u001b[39m call_fn(apply_fn, axis\u001b[39m=\u001b[39;49m\u001b[39m1\u001b[39;49m)\n\u001b[1;32m    <a href='file:///usr/local/lib/python3.9/site-packages/snorkel/labeling/apply/pandas.py?line=108'>109</a>\u001b[0m labels_with_index \u001b[39m=\u001b[39m rows_to_triplets(labels)\n\u001b[1;32m    <a href='file:///usr/local/lib/python3.9/site-packages/snorkel/labeling/apply/pandas.py?line=109'>110</a>\u001b[0m L \u001b[39m=\u001b[39m \u001b[39mself\u001b[39m\u001b[39m.\u001b[39m_numpy_from_row_data(labels_with_index)\n",
            "File \u001b[0;32m/usr/local/lib/python3.9/site-packages/tqdm/std.py:814\u001b[0m, in \u001b[0;36mtqdm.pandas.<locals>.inner_generator.<locals>.inner\u001b[0;34m(df, func, *args, **kwargs)\u001b[0m\n\u001b[1;32m    <a href='file:///usr/local/lib/python3.9/site-packages/tqdm/std.py?line=810'>811</a>\u001b[0m \u001b[39m# Apply the provided function (in **kwargs)\u001b[39;00m\n\u001b[1;32m    <a href='file:///usr/local/lib/python3.9/site-packages/tqdm/std.py?line=811'>812</a>\u001b[0m \u001b[39m# on the df using our wrapper (which provides bar updating)\u001b[39;00m\n\u001b[1;32m    <a href='file:///usr/local/lib/python3.9/site-packages/tqdm/std.py?line=812'>813</a>\u001b[0m \u001b[39mtry\u001b[39;00m:\n\u001b[0;32m--> <a href='file:///usr/local/lib/python3.9/site-packages/tqdm/std.py?line=813'>814</a>\u001b[0m     \u001b[39mreturn\u001b[39;00m \u001b[39mgetattr\u001b[39;49m(df, df_function)(wrapper, \u001b[39m*\u001b[39;49m\u001b[39m*\u001b[39;49mkwargs)\n\u001b[1;32m    <a href='file:///usr/local/lib/python3.9/site-packages/tqdm/std.py?line=814'>815</a>\u001b[0m \u001b[39mfinally\u001b[39;00m:\n\u001b[1;32m    <a href='file:///usr/local/lib/python3.9/site-packages/tqdm/std.py?line=815'>816</a>\u001b[0m     t\u001b[39m.\u001b[39mclose()\n",
            "File \u001b[0;32m/usr/local/lib/python3.9/site-packages/pandas/core/frame.py:8833\u001b[0m, in \u001b[0;36mDataFrame.apply\u001b[0;34m(self, func, axis, raw, result_type, args, **kwargs)\u001b[0m\n\u001b[1;32m   <a href='file:///usr/local/lib/python3.9/site-packages/pandas/core/frame.py?line=8821'>8822</a>\u001b[0m \u001b[39mfrom\u001b[39;00m \u001b[39mpandas\u001b[39;00m\u001b[39m.\u001b[39;00m\u001b[39mcore\u001b[39;00m\u001b[39m.\u001b[39;00m\u001b[39mapply\u001b[39;00m \u001b[39mimport\u001b[39;00m frame_apply\n\u001b[1;32m   <a href='file:///usr/local/lib/python3.9/site-packages/pandas/core/frame.py?line=8823'>8824</a>\u001b[0m op \u001b[39m=\u001b[39m frame_apply(\n\u001b[1;32m   <a href='file:///usr/local/lib/python3.9/site-packages/pandas/core/frame.py?line=8824'>8825</a>\u001b[0m     \u001b[39mself\u001b[39m,\n\u001b[1;32m   <a href='file:///usr/local/lib/python3.9/site-packages/pandas/core/frame.py?line=8825'>8826</a>\u001b[0m     func\u001b[39m=\u001b[39mfunc,\n\u001b[0;32m   (...)\u001b[0m\n\u001b[1;32m   <a href='file:///usr/local/lib/python3.9/site-packages/pandas/core/frame.py?line=8830'>8831</a>\u001b[0m     kwargs\u001b[39m=\u001b[39mkwargs,\n\u001b[1;32m   <a href='file:///usr/local/lib/python3.9/site-packages/pandas/core/frame.py?line=8831'>8832</a>\u001b[0m )\n\u001b[0;32m-> <a href='file:///usr/local/lib/python3.9/site-packages/pandas/core/frame.py?line=8832'>8833</a>\u001b[0m \u001b[39mreturn\u001b[39;00m op\u001b[39m.\u001b[39;49mapply()\u001b[39m.\u001b[39m__finalize__(\u001b[39mself\u001b[39m, method\u001b[39m=\u001b[39m\u001b[39m\"\u001b[39m\u001b[39mapply\u001b[39m\u001b[39m\"\u001b[39m)\n",
            "File \u001b[0;32m/usr/local/lib/python3.9/site-packages/pandas/core/apply.py:727\u001b[0m, in \u001b[0;36mFrameApply.apply\u001b[0;34m(self)\u001b[0m\n\u001b[1;32m    <a href='file:///usr/local/lib/python3.9/site-packages/pandas/core/apply.py?line=723'>724</a>\u001b[0m \u001b[39melif\u001b[39;00m \u001b[39mself\u001b[39m\u001b[39m.\u001b[39mraw:\n\u001b[1;32m    <a href='file:///usr/local/lib/python3.9/site-packages/pandas/core/apply.py?line=724'>725</a>\u001b[0m     \u001b[39mreturn\u001b[39;00m \u001b[39mself\u001b[39m\u001b[39m.\u001b[39mapply_raw()\n\u001b[0;32m--> <a href='file:///usr/local/lib/python3.9/site-packages/pandas/core/apply.py?line=726'>727</a>\u001b[0m \u001b[39mreturn\u001b[39;00m \u001b[39mself\u001b[39;49m\u001b[39m.\u001b[39;49mapply_standard()\n",
            "File \u001b[0;32m/usr/local/lib/python3.9/site-packages/pandas/core/apply.py:851\u001b[0m, in \u001b[0;36mFrameApply.apply_standard\u001b[0;34m(self)\u001b[0m\n\u001b[1;32m    <a href='file:///usr/local/lib/python3.9/site-packages/pandas/core/apply.py?line=849'>850</a>\u001b[0m \u001b[39mdef\u001b[39;00m \u001b[39mapply_standard\u001b[39m(\u001b[39mself\u001b[39m):\n\u001b[0;32m--> <a href='file:///usr/local/lib/python3.9/site-packages/pandas/core/apply.py?line=850'>851</a>\u001b[0m     results, res_index \u001b[39m=\u001b[39m \u001b[39mself\u001b[39;49m\u001b[39m.\u001b[39;49mapply_series_generator()\n\u001b[1;32m    <a href='file:///usr/local/lib/python3.9/site-packages/pandas/core/apply.py?line=852'>853</a>\u001b[0m     \u001b[39m# wrap results\u001b[39;00m\n\u001b[1;32m    <a href='file:///usr/local/lib/python3.9/site-packages/pandas/core/apply.py?line=853'>854</a>\u001b[0m     \u001b[39mreturn\u001b[39;00m \u001b[39mself\u001b[39m\u001b[39m.\u001b[39mwrap_results(results, res_index)\n",
            "File \u001b[0;32m/usr/local/lib/python3.9/site-packages/pandas/core/apply.py:867\u001b[0m, in \u001b[0;36mFrameApply.apply_series_generator\u001b[0;34m(self)\u001b[0m\n\u001b[1;32m    <a href='file:///usr/local/lib/python3.9/site-packages/pandas/core/apply.py?line=863'>864</a>\u001b[0m \u001b[39mwith\u001b[39;00m option_context(\u001b[39m\"\u001b[39m\u001b[39mmode.chained_assignment\u001b[39m\u001b[39m\"\u001b[39m, \u001b[39mNone\u001b[39;00m):\n\u001b[1;32m    <a href='file:///usr/local/lib/python3.9/site-packages/pandas/core/apply.py?line=864'>865</a>\u001b[0m     \u001b[39mfor\u001b[39;00m i, v \u001b[39min\u001b[39;00m \u001b[39menumerate\u001b[39m(series_gen):\n\u001b[1;32m    <a href='file:///usr/local/lib/python3.9/site-packages/pandas/core/apply.py?line=865'>866</a>\u001b[0m         \u001b[39m# ignore SettingWithCopy here in case the user mutates\u001b[39;00m\n\u001b[0;32m--> <a href='file:///usr/local/lib/python3.9/site-packages/pandas/core/apply.py?line=866'>867</a>\u001b[0m         results[i] \u001b[39m=\u001b[39m \u001b[39mself\u001b[39;49m\u001b[39m.\u001b[39;49mf(v)\n\u001b[1;32m    <a href='file:///usr/local/lib/python3.9/site-packages/pandas/core/apply.py?line=867'>868</a>\u001b[0m         \u001b[39mif\u001b[39;00m \u001b[39misinstance\u001b[39m(results[i], ABCSeries):\n\u001b[1;32m    <a href='file:///usr/local/lib/python3.9/site-packages/pandas/core/apply.py?line=868'>869</a>\u001b[0m             \u001b[39m# If we have a view on v, we need to make a copy because\u001b[39;00m\n\u001b[1;32m    <a href='file:///usr/local/lib/python3.9/site-packages/pandas/core/apply.py?line=869'>870</a>\u001b[0m             \u001b[39m#  series_generator will swap out the underlying data\u001b[39;00m\n\u001b[1;32m    <a href='file:///usr/local/lib/python3.9/site-packages/pandas/core/apply.py?line=870'>871</a>\u001b[0m             results[i] \u001b[39m=\u001b[39m results[i]\u001b[39m.\u001b[39mcopy(deep\u001b[39m=\u001b[39m\u001b[39mFalse\u001b[39;00m)\n",
            "File \u001b[0;32m/usr/local/lib/python3.9/site-packages/tqdm/std.py:809\u001b[0m, in \u001b[0;36mtqdm.pandas.<locals>.inner_generator.<locals>.inner.<locals>.wrapper\u001b[0;34m(*args, **kwargs)\u001b[0m\n\u001b[1;32m    <a href='file:///usr/local/lib/python3.9/site-packages/tqdm/std.py?line=802'>803</a>\u001b[0m \u001b[39mdef\u001b[39;00m \u001b[39mwrapper\u001b[39m(\u001b[39m*\u001b[39margs, \u001b[39m*\u001b[39m\u001b[39m*\u001b[39mkwargs):\n\u001b[1;32m    <a href='file:///usr/local/lib/python3.9/site-packages/tqdm/std.py?line=803'>804</a>\u001b[0m     \u001b[39m# update tbar correctly\u001b[39;00m\n\u001b[1;32m    <a href='file:///usr/local/lib/python3.9/site-packages/tqdm/std.py?line=804'>805</a>\u001b[0m     \u001b[39m# it seems `pandas apply` calls `func` twice\u001b[39;00m\n\u001b[1;32m    <a href='file:///usr/local/lib/python3.9/site-packages/tqdm/std.py?line=805'>806</a>\u001b[0m     \u001b[39m# on the first column/row to decide whether it can\u001b[39;00m\n\u001b[1;32m    <a href='file:///usr/local/lib/python3.9/site-packages/tqdm/std.py?line=806'>807</a>\u001b[0m     \u001b[39m# take a fast or slow code path; so stop when t.total==t.n\u001b[39;00m\n\u001b[1;32m    <a href='file:///usr/local/lib/python3.9/site-packages/tqdm/std.py?line=807'>808</a>\u001b[0m     t\u001b[39m.\u001b[39mupdate(n\u001b[39m=\u001b[39m\u001b[39m1\u001b[39m \u001b[39mif\u001b[39;00m \u001b[39mnot\u001b[39;00m t\u001b[39m.\u001b[39mtotal \u001b[39mor\u001b[39;00m t\u001b[39m.\u001b[39mn \u001b[39m<\u001b[39m t\u001b[39m.\u001b[39mtotal \u001b[39melse\u001b[39;00m \u001b[39m0\u001b[39m)\n\u001b[0;32m--> <a href='file:///usr/local/lib/python3.9/site-packages/tqdm/std.py?line=808'>809</a>\u001b[0m     \u001b[39mreturn\u001b[39;00m func(\u001b[39m*\u001b[39;49margs, \u001b[39m*\u001b[39;49m\u001b[39m*\u001b[39;49mkwargs)\n",
            "File \u001b[0;32m/usr/local/lib/python3.9/site-packages/snorkel/labeling/apply/pandas.py:37\u001b[0m, in \u001b[0;36mapply_lfs_to_data_point\u001b[0;34m(x, lfs, f_caller)\u001b[0m\n\u001b[1;32m     <a href='file:///usr/local/lib/python3.9/site-packages/snorkel/labeling/apply/pandas.py?line=34'>35</a>\u001b[0m labels \u001b[39m=\u001b[39m []\n\u001b[1;32m     <a href='file:///usr/local/lib/python3.9/site-packages/snorkel/labeling/apply/pandas.py?line=35'>36</a>\u001b[0m \u001b[39mfor\u001b[39;00m j, lf \u001b[39min\u001b[39;00m \u001b[39menumerate\u001b[39m(lfs):\n\u001b[0;32m---> <a href='file:///usr/local/lib/python3.9/site-packages/snorkel/labeling/apply/pandas.py?line=36'>37</a>\u001b[0m     y \u001b[39m=\u001b[39m f_caller(lf, x)\n\u001b[1;32m     <a href='file:///usr/local/lib/python3.9/site-packages/snorkel/labeling/apply/pandas.py?line=37'>38</a>\u001b[0m     \u001b[39mif\u001b[39;00m y \u001b[39m>\u001b[39m\u001b[39m=\u001b[39m \u001b[39m0\u001b[39m:\n\u001b[1;32m     <a href='file:///usr/local/lib/python3.9/site-packages/snorkel/labeling/apply/pandas.py?line=38'>39</a>\u001b[0m         labels\u001b[39m.\u001b[39mappend((j, y))\n",
            "File \u001b[0;32m/usr/local/lib/python3.9/site-packages/snorkel/labeling/apply/core.py:28\u001b[0m, in \u001b[0;36m_FunctionCaller.__call__\u001b[0;34m(self, f, x)\u001b[0m\n\u001b[1;32m     <a href='file:///usr/local/lib/python3.9/site-packages/snorkel/labeling/apply/core.py?line=25'>26</a>\u001b[0m \u001b[39mdef\u001b[39;00m \u001b[39m__call__\u001b[39m(\u001b[39mself\u001b[39m, f: LabelingFunction, x: DataPoint) \u001b[39m-\u001b[39m\u001b[39m>\u001b[39m \u001b[39mint\u001b[39m:\n\u001b[1;32m     <a href='file:///usr/local/lib/python3.9/site-packages/snorkel/labeling/apply/core.py?line=26'>27</a>\u001b[0m     \u001b[39mif\u001b[39;00m \u001b[39mnot\u001b[39;00m \u001b[39mself\u001b[39m\u001b[39m.\u001b[39mfault_tolerant:\n\u001b[0;32m---> <a href='file:///usr/local/lib/python3.9/site-packages/snorkel/labeling/apply/core.py?line=27'>28</a>\u001b[0m         \u001b[39mreturn\u001b[39;00m f(x)\n\u001b[1;32m     <a href='file:///usr/local/lib/python3.9/site-packages/snorkel/labeling/apply/core.py?line=28'>29</a>\u001b[0m     \u001b[39mtry\u001b[39;00m:\n\u001b[1;32m     <a href='file:///usr/local/lib/python3.9/site-packages/snorkel/labeling/apply/core.py?line=29'>30</a>\u001b[0m         \u001b[39mreturn\u001b[39;00m f(x)\n",
            "File \u001b[0;32m/usr/local/lib/python3.9/site-packages/snorkel/labeling/lf/core.py:77\u001b[0m, in \u001b[0;36mLabelingFunction.__call__\u001b[0;34m(self, x)\u001b[0m\n\u001b[1;32m     <a href='file:///usr/local/lib/python3.9/site-packages/snorkel/labeling/lf/core.py?line=61'>62</a>\u001b[0m \u001b[39m\"\"\"Label data point.\u001b[39;00m\n\u001b[1;32m     <a href='file:///usr/local/lib/python3.9/site-packages/snorkel/labeling/lf/core.py?line=62'>63</a>\u001b[0m \n\u001b[1;32m     <a href='file:///usr/local/lib/python3.9/site-packages/snorkel/labeling/lf/core.py?line=63'>64</a>\u001b[0m \u001b[39mRuns all preprocessors, then passes preprocessed data point to LF.\u001b[39;00m\n\u001b[0;32m   (...)\u001b[0m\n\u001b[1;32m     <a href='file:///usr/local/lib/python3.9/site-packages/snorkel/labeling/lf/core.py?line=73'>74</a>\u001b[0m \u001b[39m    Label for data point\u001b[39;00m\n\u001b[1;32m     <a href='file:///usr/local/lib/python3.9/site-packages/snorkel/labeling/lf/core.py?line=74'>75</a>\u001b[0m \u001b[39m\"\"\"\u001b[39;00m\n\u001b[1;32m     <a href='file:///usr/local/lib/python3.9/site-packages/snorkel/labeling/lf/core.py?line=75'>76</a>\u001b[0m x \u001b[39m=\u001b[39m \u001b[39mself\u001b[39m\u001b[39m.\u001b[39m_preprocess_data_point(x)\n\u001b[0;32m---> <a href='file:///usr/local/lib/python3.9/site-packages/snorkel/labeling/lf/core.py?line=76'>77</a>\u001b[0m \u001b[39mreturn\u001b[39;00m \u001b[39mself\u001b[39;49m\u001b[39m.\u001b[39;49m_f(x, \u001b[39m*\u001b[39;49m\u001b[39m*\u001b[39;49m\u001b[39mself\u001b[39;49m\u001b[39m.\u001b[39;49m_resources)\n",
            "\u001b[1;32m/Users/arturzorron/unb/tcc/covid/notebook-vitin.ipynb Cell 7'\u001b[0m in \u001b[0;36mlabel1\u001b[0;34m(x)\u001b[0m\n\u001b[1;32m      <a href='vscode-notebook-cell:/Users/arturzorron/unb/tcc/covid/notebook-vitin.ipynb#ch0000005?line=0'>1</a>\u001b[0m \u001b[39m@labeling_function\u001b[39m()\n\u001b[1;32m      <a href='vscode-notebook-cell:/Users/arturzorron/unb/tcc/covid/notebook-vitin.ipynb#ch0000005?line=1'>2</a>\u001b[0m \u001b[39mdef\u001b[39;00m \u001b[39mlabel1\u001b[39m(x):\n\u001b[0;32m----> <a href='vscode-notebook-cell:/Users/arturzorron/unb/tcc/covid/notebook-vitin.ipynb#ch0000005?line=2'>3</a>\u001b[0m     \u001b[39mreturn\u001b[39;00m IMPORTANT \u001b[39mif\u001b[39;00m \u001b[39m\"\u001b[39m\u001b[39mvacina\u001b[39m\u001b[39m\"\u001b[39m \u001b[39min\u001b[39;00m x\u001b[39m.\u001b[39;49mtext\u001b[39m.\u001b[39mlower() \u001b[39melse\u001b[39;00m ABSTAIN\n",
            "File \u001b[0;32m/usr/local/lib/python3.9/site-packages/pandas/core/generic.py:5583\u001b[0m, in \u001b[0;36mNDFrame.__getattr__\u001b[0;34m(self, name)\u001b[0m\n\u001b[1;32m   <a href='file:///usr/local/lib/python3.9/site-packages/pandas/core/generic.py?line=5575'>5576</a>\u001b[0m \u001b[39mif\u001b[39;00m (\n\u001b[1;32m   <a href='file:///usr/local/lib/python3.9/site-packages/pandas/core/generic.py?line=5576'>5577</a>\u001b[0m     name \u001b[39mnot\u001b[39;00m \u001b[39min\u001b[39;00m \u001b[39mself\u001b[39m\u001b[39m.\u001b[39m_internal_names_set\n\u001b[1;32m   <a href='file:///usr/local/lib/python3.9/site-packages/pandas/core/generic.py?line=5577'>5578</a>\u001b[0m     \u001b[39mand\u001b[39;00m name \u001b[39mnot\u001b[39;00m \u001b[39min\u001b[39;00m \u001b[39mself\u001b[39m\u001b[39m.\u001b[39m_metadata\n\u001b[1;32m   <a href='file:///usr/local/lib/python3.9/site-packages/pandas/core/generic.py?line=5578'>5579</a>\u001b[0m     \u001b[39mand\u001b[39;00m name \u001b[39mnot\u001b[39;00m \u001b[39min\u001b[39;00m \u001b[39mself\u001b[39m\u001b[39m.\u001b[39m_accessors\n\u001b[1;32m   <a href='file:///usr/local/lib/python3.9/site-packages/pandas/core/generic.py?line=5579'>5580</a>\u001b[0m     \u001b[39mand\u001b[39;00m \u001b[39mself\u001b[39m\u001b[39m.\u001b[39m_info_axis\u001b[39m.\u001b[39m_can_hold_identifiers_and_holds_name(name)\n\u001b[1;32m   <a href='file:///usr/local/lib/python3.9/site-packages/pandas/core/generic.py?line=5580'>5581</a>\u001b[0m ):\n\u001b[1;32m   <a href='file:///usr/local/lib/python3.9/site-packages/pandas/core/generic.py?line=5581'>5582</a>\u001b[0m     \u001b[39mreturn\u001b[39;00m \u001b[39mself\u001b[39m[name]\n\u001b[0;32m-> <a href='file:///usr/local/lib/python3.9/site-packages/pandas/core/generic.py?line=5582'>5583</a>\u001b[0m \u001b[39mreturn\u001b[39;00m \u001b[39mobject\u001b[39;49m\u001b[39m.\u001b[39;49m\u001b[39m__getattribute__\u001b[39;49m(\u001b[39mself\u001b[39;49m, name)\n",
            "\u001b[0;31mAttributeError\u001b[0m: 'Series' object has no attribute 'text'"
          ]
        }
      ],
      "source": [
        "L_train = applier.apply(df=df_train)"
      ]
    },
    {
      "cell_type": "code",
      "execution_count": null,
      "metadata": {
        "id": "hEZwm0OGpwYG",
        "outputId": "a7a80fd0-ae7c-404b-c5e6-6dd30670eb98"
      },
      "outputs": [
        {
          "data": {
            "text/plain": [
              "array([[0, 0, 0],\n",
              "       [0, 0, 0],\n",
              "       [0, 0, 0],\n",
              "       ...,\n",
              "       [0, 1, 0],\n",
              "       [0, 1, 0],\n",
              "       [0, 0, 0]])"
            ]
          },
          "execution_count": 27,
          "metadata": {},
          "output_type": "execute_result"
        }
      ],
      "source": [
        "L_train"
      ]
    },
    {
      "cell_type": "code",
      "execution_count": null,
      "metadata": {
        "id": "stiFgHwlpwYH",
        "outputId": "257b283a-07d3-43b6-9f64-c8c4626ab5a2"
      },
      "outputs": [
        {
          "data": {
            "text/html": [
              "<div>\n",
              "<style scoped>\n",
              "    .dataframe tbody tr th:only-of-type {\n",
              "        vertical-align: middle;\n",
              "    }\n",
              "\n",
              "    .dataframe tbody tr th {\n",
              "        vertical-align: top;\n",
              "    }\n",
              "\n",
              "    .dataframe thead th {\n",
              "        text-align: right;\n",
              "    }\n",
              "</style>\n",
              "<table border=\"1\" class=\"dataframe\">\n",
              "  <thead>\n",
              "    <tr style=\"text-align: right;\">\n",
              "      <th></th>\n",
              "      <th>j</th>\n",
              "      <th>Polarity</th>\n",
              "      <th>Coverage</th>\n",
              "      <th>Overlaps</th>\n",
              "      <th>Conflicts</th>\n",
              "    </tr>\n",
              "  </thead>\n",
              "  <tbody>\n",
              "    <tr>\n",
              "      <th>label1</th>\n",
              "      <td>0</td>\n",
              "      <td>[0, 1]</td>\n",
              "      <td>1.0</td>\n",
              "      <td>1.0</td>\n",
              "      <td>0.38921</td>\n",
              "    </tr>\n",
              "    <tr>\n",
              "      <th>label2</th>\n",
              "      <td>1</td>\n",
              "      <td>[0, 1]</td>\n",
              "      <td>1.0</td>\n",
              "      <td>1.0</td>\n",
              "      <td>0.38921</td>\n",
              "    </tr>\n",
              "    <tr>\n",
              "      <th>label3</th>\n",
              "      <td>2</td>\n",
              "      <td>[0, 1]</td>\n",
              "      <td>1.0</td>\n",
              "      <td>1.0</td>\n",
              "      <td>0.38921</td>\n",
              "    </tr>\n",
              "  </tbody>\n",
              "</table>\n",
              "</div>"
            ],
            "text/plain": [
              "        j Polarity  Coverage  Overlaps  Conflicts\n",
              "label1  0   [0, 1]       1.0       1.0    0.38921\n",
              "label2  1   [0, 1]       1.0       1.0    0.38921\n",
              "label3  2   [0, 1]       1.0       1.0    0.38921"
            ]
          },
          "execution_count": 28,
          "metadata": {},
          "output_type": "execute_result"
        }
      ],
      "source": [
        "LFAnalysis(L=L_train,lfs=lfs).lf_summary()"
      ]
    },
    {
      "cell_type": "code",
      "execution_count": null,
      "metadata": {
        "id": "iwYox2nQpwYH"
      },
      "outputs": [],
      "source": [
        "from snorkel.labeling.model import MajorityLabelVoter,LabelModel"
      ]
    },
    {
      "cell_type": "code",
      "execution_count": null,
      "metadata": {
        "id": "bejiWbhSpwYH",
        "outputId": "fd12a7aa-d330-4572-911e-bdd933504c99"
      },
      "outputs": [
        {
          "name": "stderr",
          "output_type": "stream",
          "text": [
            "INFO:root:Computing O...\n",
            "INFO:root:Estimating \\mu...\n",
            "  0%|          | 0/500 [00:00<?, ?epoch/s]INFO:root:[0 epochs]: TRAIN:[loss=3.388]\n",
            "INFO:root:[100 epochs]: TRAIN:[loss=0.003]\n",
            " 35%|███▌      | 175/500 [00:00<00:00, 1743.76epoch/s]INFO:root:[200 epochs]: TRAIN:[loss=0.001]\n",
            "INFO:root:[300 epochs]: TRAIN:[loss=0.001]\n",
            " 72%|███████▏  | 361/500 [00:00<00:00, 1811.12epoch/s]INFO:root:[400 epochs]: TRAIN:[loss=0.000]\n",
            "100%|██████████| 500/500 [00:00<00:00, 1806.02epoch/s]\n",
            "INFO:root:Finished Training\n"
          ]
        }
      ],
      "source": [
        "label_model = LabelModel(cardinality=2,verbose=True)\n",
        "label_model.fit(L_train=L_train,n_epochs=500,log_freq=100,seed=123)"
      ]
    },
    {
      "cell_type": "code",
      "execution_count": null,
      "metadata": {
        "id": "D1MjN8iDpwYI",
        "outputId": "46937718-5ae0-49c7-a25c-b0046b511c69"
      },
      "outputs": [
        {
          "data": {
            "text/html": [
              "<div>\n",
              "<style scoped>\n",
              "    .dataframe tbody tr th:only-of-type {\n",
              "        vertical-align: middle;\n",
              "    }\n",
              "\n",
              "    .dataframe tbody tr th {\n",
              "        vertical-align: top;\n",
              "    }\n",
              "\n",
              "    .dataframe thead th {\n",
              "        text-align: right;\n",
              "    }\n",
              "</style>\n",
              "<table border=\"1\" class=\"dataframe\">\n",
              "  <thead>\n",
              "    <tr style=\"text-align: right;\">\n",
              "      <th></th>\n",
              "      <th>is_retweet</th>\n",
              "      <th>text</th>\n",
              "    </tr>\n",
              "  </thead>\n",
              "  <tbody>\n",
              "    <tr>\n",
              "      <th>1449</th>\n",
              "      <td>False</td>\n",
              "      <td>If you treat people right they will treat you ...</td>\n",
              "    </tr>\n",
              "    <tr>\n",
              "      <th>25120</th>\n",
              "      <td>False</td>\n",
              "      <td>They just arrested pol Shelly Silver in New Yo...</td>\n",
              "    </tr>\n",
              "    <tr>\n",
              "      <th>32317</th>\n",
              "      <td>False</td>\n",
              "      <td>ObamaCare will explode and we will all get tog...</td>\n",
              "    </tr>\n",
              "    <tr>\n",
              "      <th>21914</th>\n",
              "      <td>False</td>\n",
              "      <td>\"@BettyeBear: @realDonaldTrump Every working c...</td>\n",
              "    </tr>\n",
              "    <tr>\n",
              "      <th>1610</th>\n",
              "      <td>False</td>\n",
              "      <td>Aberdeen tourism is booming because of my grea...</td>\n",
              "    </tr>\n",
              "  </tbody>\n",
              "</table>\n",
              "</div>"
            ],
            "text/plain": [
              "       is_retweet                                               text\n",
              "1449        False  If you treat people right they will treat you ...\n",
              "25120       False  They just arrested pol Shelly Silver in New Yo...\n",
              "32317       False  ObamaCare will explode and we will all get tog...\n",
              "21914       False  \"@BettyeBear: @realDonaldTrump Every working c...\n",
              "1610        False  Aberdeen tourism is booming because of my grea..."
            ]
          },
          "execution_count": 31,
          "metadata": {},
          "output_type": "execute_result"
        }
      ],
      "source": [
        "df_train.head()"
      ]
    },
    {
      "cell_type": "code",
      "execution_count": null,
      "metadata": {
        "id": "y76JQqIMpwYI",
        "outputId": "4bb1b87c-e7fb-44aa-868b-8c25ce7864fe"
      },
      "outputs": [
        {
          "name": "stderr",
          "output_type": "stream",
          "text": [
            "/var/folders/47/2r15btws4hl473544pb4_s700000gp/T/ipykernel_65770/1145111523.py:1: SettingWithCopyWarning: \n",
            "A value is trying to be set on a copy of a slice from a DataFrame.\n",
            "Try using .loc[row_indexer,col_indexer] = value instead\n",
            "\n",
            "See the caveats in the documentation: https://pandas.pydata.org/pandas-docs/stable/user_guide/indexing.html#returning-a-view-versus-a-copy\n",
            "  df_train['Labels'] = label_model.predict(L=L_train,tie_break_policy=\"abstain\")\n"
          ]
        }
      ],
      "source": [
        "df_train['Labels'] = label_model.predict(L=L_train,tie_break_policy=\"abstain\")"
      ]
    },
    {
      "cell_type": "code",
      "execution_count": null,
      "metadata": {
        "id": "B-cCv7U5pwYJ",
        "outputId": "504ae03d-e456-4c27-c1dd-8f86ae84aefc"
      },
      "outputs": [
        {
          "data": {
            "text/html": [
              "<div>\n",
              "<style scoped>\n",
              "    .dataframe tbody tr th:only-of-type {\n",
              "        vertical-align: middle;\n",
              "    }\n",
              "\n",
              "    .dataframe tbody tr th {\n",
              "        vertical-align: top;\n",
              "    }\n",
              "\n",
              "    .dataframe thead th {\n",
              "        text-align: right;\n",
              "    }\n",
              "</style>\n",
              "<table border=\"1\" class=\"dataframe\">\n",
              "  <thead>\n",
              "    <tr style=\"text-align: right;\">\n",
              "      <th></th>\n",
              "      <th>is_retweet</th>\n",
              "      <th>text</th>\n",
              "      <th>Labels</th>\n",
              "    </tr>\n",
              "  </thead>\n",
              "  <tbody>\n",
              "    <tr>\n",
              "      <th>1449</th>\n",
              "      <td>False</td>\n",
              "      <td>If you treat people right they will treat you ...</td>\n",
              "      <td>0</td>\n",
              "    </tr>\n",
              "    <tr>\n",
              "      <th>25120</th>\n",
              "      <td>False</td>\n",
              "      <td>They just arrested pol Shelly Silver in New Yo...</td>\n",
              "      <td>0</td>\n",
              "    </tr>\n",
              "    <tr>\n",
              "      <th>32317</th>\n",
              "      <td>False</td>\n",
              "      <td>ObamaCare will explode and we will all get tog...</td>\n",
              "      <td>0</td>\n",
              "    </tr>\n",
              "    <tr>\n",
              "      <th>21914</th>\n",
              "      <td>False</td>\n",
              "      <td>\"@BettyeBear: @realDonaldTrump Every working c...</td>\n",
              "      <td>0</td>\n",
              "    </tr>\n",
              "    <tr>\n",
              "      <th>1610</th>\n",
              "      <td>False</td>\n",
              "      <td>Aberdeen tourism is booming because of my grea...</td>\n",
              "      <td>0</td>\n",
              "    </tr>\n",
              "    <tr>\n",
              "      <th>...</th>\n",
              "      <td>...</td>\n",
              "      <td>...</td>\n",
              "      <td>...</td>\n",
              "    </tr>\n",
              "    <tr>\n",
              "      <th>23766</th>\n",
              "      <td>False</td>\n",
              "      <td>\"@gabriellebragg4: How do I find out where @re...</td>\n",
              "      <td>0</td>\n",
              "    </tr>\n",
              "    <tr>\n",
              "      <th>7763</th>\n",
              "      <td>False</td>\n",
              "      <td>.@TrumpDoral’s record $200M renovations are on...</td>\n",
              "      <td>0</td>\n",
              "    </tr>\n",
              "    <tr>\n",
              "      <th>15377</th>\n",
              "      <td>False</td>\n",
              "      <td>\"@TheBigJamesG  staff at Trump Doral was amazi...</td>\n",
              "      <td>0</td>\n",
              "    </tr>\n",
              "    <tr>\n",
              "      <th>17730</th>\n",
              "      <td>False</td>\n",
              "      <td>\"@pandoerra: @realDonaldTrump I think you coul...</td>\n",
              "      <td>0</td>\n",
              "    </tr>\n",
              "    <tr>\n",
              "      <th>28030</th>\n",
              "      <td>False</td>\n",
              "      <td>How long did it take your staff of 823 people ...</td>\n",
              "      <td>0</td>\n",
              "    </tr>\n",
              "  </tbody>\n",
              "</table>\n",
              "<p>28175 rows × 3 columns</p>\n",
              "</div>"
            ],
            "text/plain": [
              "       is_retweet                                               text  Labels\n",
              "1449        False  If you treat people right they will treat you ...       0\n",
              "25120       False  They just arrested pol Shelly Silver in New Yo...       0\n",
              "32317       False  ObamaCare will explode and we will all get tog...       0\n",
              "21914       False  \"@BettyeBear: @realDonaldTrump Every working c...       0\n",
              "1610        False  Aberdeen tourism is booming because of my grea...       0\n",
              "...           ...                                                ...     ...\n",
              "23766       False  \"@gabriellebragg4: How do I find out where @re...       0\n",
              "7763        False  .@TrumpDoral’s record $200M renovations are on...       0\n",
              "15377       False  \"@TheBigJamesG  staff at Trump Doral was amazi...       0\n",
              "17730       False  \"@pandoerra: @realDonaldTrump I think you coul...       0\n",
              "28030       False  How long did it take your staff of 823 people ...       0\n",
              "\n",
              "[28175 rows x 3 columns]"
            ]
          },
          "execution_count": 33,
          "metadata": {},
          "output_type": "execute_result"
        }
      ],
      "source": [
        "df_train.query('Labels == 0')"
      ]
    }
  ],
  "metadata": {
    "colab": {
      "collapsed_sections": [],
      "name": "LFs-Covid.ipynb",
      "provenance": []
    },
    "interpreter": {
      "hash": "916dbcbb3f70747c44a77c7bcd40155683ae19c65e1c03b4aa3499c5328201f1"
    },
    "kernelspec": {
      "display_name": "Python 3.8.10 64-bit",
      "language": "python",
      "name": "python3"
    },
    "language_info": {
      "codemirror_mode": {
        "name": "ipython",
        "version": 3
      },
      "file_extension": ".py",
      "mimetype": "text/x-python",
      "name": "python",
      "nbconvert_exporter": "python",
      "pygments_lexer": "ipython3",
      "version": "3.9.12"
    },
    "orig_nbformat": 4
  },
  "nbformat": 4,
  "nbformat_minor": 0
}
