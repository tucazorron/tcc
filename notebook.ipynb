{
  "cells": [
    {
      "cell_type": "markdown",
      "metadata": {},
      "source": [
        "# import libs\n"
      ]
    },
    {
      "cell_type": "code",
      "execution_count": 26,
      "metadata": {
        "id": "C5k4PmFqpwYA"
      },
      "outputs": [],
      "source": [
        "import pandas as pd\n",
        "from sklearn.model_selection import train_test_split\n",
        "from snorkel.labeling import labeling_function, PandasLFApplier, LFAnalysis\n",
        "from snorkel.labeling.model import MajorityLabelVoter, LabelModel\n"
      ]
    },
    {
      "cell_type": "markdown",
      "metadata": {},
      "source": [
        "# populates database\n"
      ]
    },
    {
      "cell_type": "code",
      "execution_count": 27,
      "metadata": {},
      "outputs": [],
      "source": [
        "base = 'database.txt'\n",
        "data = pd.read_csv(base, sep='\\t', encoding='utf-8',\n",
        "                   names=['text'], header=None)\n"
      ]
    },
    {
      "cell_type": "code",
      "execution_count": 28,
      "metadata": {
        "id": "YACsonFXpwYC",
        "outputId": "6a6229f1-ebca-4c49-b5f8-a91c0c927aa3"
      },
      "outputs": [
        {
          "data": {
            "text/html": [
              "<div>\n",
              "<style scoped>\n",
              "    .dataframe tbody tr th:only-of-type {\n",
              "        vertical-align: middle;\n",
              "    }\n",
              "\n",
              "    .dataframe tbody tr th {\n",
              "        vertical-align: top;\n",
              "    }\n",
              "\n",
              "    .dataframe thead th {\n",
              "        text-align: right;\n",
              "    }\n",
              "</style>\n",
              "<table border=\"1\" class=\"dataframe\">\n",
              "  <thead>\n",
              "    <tr style=\"text-align: right;\">\n",
              "      <th></th>\n",
              "      <th>text</th>\n",
              "    </tr>\n",
              "  </thead>\n",
              "  <tbody>\n",
              "    <tr>\n",
              "      <th>0</th>\n",
              "      <td>'@galliyanamiteva kkkkkkkkkk eu sou bue caseir...</td>\n",
              "    </tr>\n",
              "    <tr>\n",
              "      <th>1</th>\n",
              "      <td>'Covid-19: Brasil tem 28,7 milhões de casos e ...</td>\n",
              "    </tr>\n",
              "    <tr>\n",
              "      <th>2</th>\n",
              "      <td>'A mesma globo que recentemente defendia o iso...</td>\n",
              "    </tr>\n",
              "    <tr>\n",
              "      <th>3</th>\n",
              "      <td>'Covid era altura de fazeres a tua parte e aju...</td>\n",
              "    </tr>\n",
              "    <tr>\n",
              "      <th>4</th>\n",
              "      <td>'Feriadão prolongado desse e não vou poder ver...</td>\n",
              "    </tr>\n",
              "    <tr>\n",
              "      <th>...</th>\n",
              "      <td>...</td>\n",
              "    </tr>\n",
              "    <tr>\n",
              "      <th>12995</th>\n",
              "      <td>'@freeblowjob Eu fiquei um tempo sem falar com...</td>\n",
              "    </tr>\n",
              "    <tr>\n",
              "      <th>12996</th>\n",
              "      <td>'Vacinação em Coimbra passa a ser feita nos ce...</td>\n",
              "    </tr>\n",
              "    <tr>\n",
              "      <th>12997</th>\n",
              "      <td>'RiRi não para mais em casa? cê tá grávida e a...</td>\n",
              "    </tr>\n",
              "    <tr>\n",
              "      <th>12998</th>\n",
              "      <td>'Gilmar Mendes pediu para apagar todos os arqu...</td>\n",
              "    </tr>\n",
              "    <tr>\n",
              "      <th>12999</th>\n",
              "      <td>'fiz o exame do covid daqui 2 hrs pego o resul...</td>\n",
              "    </tr>\n",
              "  </tbody>\n",
              "</table>\n",
              "<p>13000 rows × 1 columns</p>\n",
              "</div>"
            ],
            "text/plain": [
              "                                                    text\n",
              "0      '@galliyanamiteva kkkkkkkkkk eu sou bue caseir...\n",
              "1      'Covid-19: Brasil tem 28,7 milhões de casos e ...\n",
              "2      'A mesma globo que recentemente defendia o iso...\n",
              "3      'Covid era altura de fazeres a tua parte e aju...\n",
              "4      'Feriadão prolongado desse e não vou poder ver...\n",
              "...                                                  ...\n",
              "12995  '@freeblowjob Eu fiquei um tempo sem falar com...\n",
              "12996  'Vacinação em Coimbra passa a ser feita nos ce...\n",
              "12997  'RiRi não para mais em casa? cê tá grávida e a...\n",
              "12998  'Gilmar Mendes pediu para apagar todos os arqu...\n",
              "12999  'fiz o exame do covid daqui 2 hrs pego o resul...\n",
              "\n",
              "[13000 rows x 1 columns]"
            ]
          },
          "execution_count": 28,
          "metadata": {},
          "output_type": "execute_result"
        }
      ],
      "source": [
        "data\n"
      ]
    },
    {
      "cell_type": "markdown",
      "metadata": {},
      "source": [
        "# create labels\n"
      ]
    },
    {
      "cell_type": "code",
      "execution_count": 29,
      "metadata": {
        "id": "464xWn4SpwYB"
      },
      "outputs": [],
      "source": [
        "USEFULL = 1\n",
        "USELESS = -1\n",
        "ABSTAIN = 0\n"
      ]
    },
    {
      "cell_type": "markdown",
      "metadata": {},
      "source": [
        "# creates train and test sets\n"
      ]
    },
    {
      "cell_type": "code",
      "execution_count": 30,
      "metadata": {
        "id": "WgifmJavpwYD"
      },
      "outputs": [],
      "source": [
        "df_train, df_test = train_test_split(data, train_size=0.8)\n"
      ]
    },
    {
      "cell_type": "code",
      "execution_count": 31,
      "metadata": {},
      "outputs": [
        {
          "data": {
            "text/html": [
              "<div>\n",
              "<style scoped>\n",
              "    .dataframe tbody tr th:only-of-type {\n",
              "        vertical-align: middle;\n",
              "    }\n",
              "\n",
              "    .dataframe tbody tr th {\n",
              "        vertical-align: top;\n",
              "    }\n",
              "\n",
              "    .dataframe thead th {\n",
              "        text-align: right;\n",
              "    }\n",
              "</style>\n",
              "<table border=\"1\" class=\"dataframe\">\n",
              "  <thead>\n",
              "    <tr style=\"text-align: right;\">\n",
              "      <th></th>\n",
              "      <th>text</th>\n",
              "    </tr>\n",
              "  </thead>\n",
              "  <tbody>\n",
              "    <tr>\n",
              "      <th>3809</th>\n",
              "      <td>'Eu tô gripada pra caramba, pode até se covid ...</td>\n",
              "    </tr>\n",
              "    <tr>\n",
              "      <th>2306</th>\n",
              "      <td>'Covid-19: estudo mostra sucesso de inibidores...</td>\n",
              "    </tr>\n",
              "    <tr>\n",
              "      <th>8684</th>\n",
              "      <td>'Esse ano eu ia curtir Carnaval pq finalmente ...</td>\n",
              "    </tr>\n",
              "    <tr>\n",
              "      <th>2374</th>\n",
              "      <td>'🗞️ Secretaria de Saúde orienta cuidados contr...</td>\n",
              "    </tr>\n",
              "    <tr>\n",
              "      <th>9234</th>\n",
              "      <td>'Brasil, 25 de fevereiro de 2022.\\nPaciente ac...</td>\n",
              "    </tr>\n",
              "    <tr>\n",
              "      <th>...</th>\n",
              "      <td>...</td>\n",
              "    </tr>\n",
              "    <tr>\n",
              "      <th>7763</th>\n",
              "      <td>'Semaninha complicada , até achei que estava c...</td>\n",
              "    </tr>\n",
              "    <tr>\n",
              "      <th>5218</th>\n",
              "      <td>'Na real q foi assim*\\n\\nPré escola = guerra\\n...</td>\n",
              "    </tr>\n",
              "    <tr>\n",
              "      <th>12252</th>\n",
              "      <td>'@rafaelatsh A cabeça pós covid \\U0001f972'</td>\n",
              "    </tr>\n",
              "    <tr>\n",
              "      <th>1346</th>\n",
              "      <td>'@chrisgonzatti Sem Bolsonaro. Sem Covid. Sem ...</td>\n",
              "    </tr>\n",
              "    <tr>\n",
              "      <th>11646</th>\n",
              "      <td>'Gente, mas e o covid?\\n\\nAcabou??'</td>\n",
              "    </tr>\n",
              "  </tbody>\n",
              "</table>\n",
              "<p>10400 rows × 1 columns</p>\n",
              "</div>"
            ],
            "text/plain": [
              "                                                    text\n",
              "3809   'Eu tô gripada pra caramba, pode até se covid ...\n",
              "2306   'Covid-19: estudo mostra sucesso de inibidores...\n",
              "8684   'Esse ano eu ia curtir Carnaval pq finalmente ...\n",
              "2374   '🗞️ Secretaria de Saúde orienta cuidados contr...\n",
              "9234   'Brasil, 25 de fevereiro de 2022.\\nPaciente ac...\n",
              "...                                                  ...\n",
              "7763   'Semaninha complicada , até achei que estava c...\n",
              "5218   'Na real q foi assim*\\n\\nPré escola = guerra\\n...\n",
              "12252        '@rafaelatsh A cabeça pós covid \\U0001f972'\n",
              "1346   '@chrisgonzatti Sem Bolsonaro. Sem Covid. Sem ...\n",
              "11646                'Gente, mas e o covid?\\n\\nAcabou??'\n",
              "\n",
              "[10400 rows x 1 columns]"
            ]
          },
          "execution_count": 31,
          "metadata": {},
          "output_type": "execute_result"
        }
      ],
      "source": [
        "df_train\n"
      ]
    },
    {
      "cell_type": "markdown",
      "metadata": {},
      "source": [
        "# creates label functions\n"
      ]
    },
    {
      "cell_type": "code",
      "execution_count": 32,
      "metadata": {
        "id": "0tDjg-VopwYE"
      },
      "outputs": [],
      "source": [
        "@labeling_function()\n",
        "def label1(x):\n",
        "    return USEFULL if \"vacina\" in x.text.lower() else ABSTAIN\n",
        "\n",
        "\n",
        "@labeling_function()\n",
        "def label2(x):\n",
        "    return USEFULL if \"bolsonaro\" in x.text.lower() else ABSTAIN\n",
        "\n",
        "\n",
        "@labeling_function()\n",
        "def label3(x):\n",
        "    return USEFULL if \"pandemia\" in x.text.lower() else ABSTAIN\n",
        "\n",
        "\n",
        "@labeling_function()\n",
        "def label4(x):\n",
        "    return USEFULL if \"corona\" in x.text.lower() else ABSTAIN\n",
        "\n",
        "\n",
        "@labeling_function()\n",
        "def label5(x):\n",
        "    return USEFULL if \"covid\" in x.text.lower() else ABSTAIN\n",
        "\n",
        "\n",
        "@labeling_function()\n",
        "def label6(x):\n",
        "    return USEFULL if \"virus\" in x.text.lower() else ABSTAIN\n",
        "\n",
        "\n",
        "@labeling_function()\n",
        "def label7(x):\n",
        "    return USELESS if \"caralho\" in x.text.lower() else ABSTAIN\n",
        "\n",
        "\n",
        "@labeling_function()\n",
        "def label8(x):\n",
        "    return USELESS if \"puta\" in x.text.lower() else ABSTAIN\n",
        "\n",
        "\n",
        "@labeling_function()\n",
        "def label9(x):\n",
        "    return USELESS if \"merda\" in x.text.lower() else ABSTAIN\n",
        "\n",
        "\n",
        "@labeling_function()\n",
        "def label10(x):\n",
        "    return USELESS if \"porra\" in x.text.lower() else ABSTAIN\n"
      ]
    },
    {
      "cell_type": "markdown",
      "metadata": {},
      "source": [
        "# agroups label functions\n"
      ]
    },
    {
      "cell_type": "code",
      "execution_count": 33,
      "metadata": {
        "id": "gfRw03FApwYF"
      },
      "outputs": [],
      "source": [
        "lfs = [label1, label2, label3, label4, label5,\n",
        "       label6, label7, label8, label9, label10]\n"
      ]
    },
    {
      "cell_type": "markdown",
      "metadata": {},
      "source": [
        "# applies label functions\n"
      ]
    },
    {
      "cell_type": "code",
      "execution_count": 34,
      "metadata": {
        "id": "zTo9VamtpwYF",
        "outputId": "a4d943c8-69be-4bf0-bb44-334740e6107a"
      },
      "outputs": [],
      "source": [
        "applier = PandasLFApplier(lfs=lfs)\n"
      ]
    },
    {
      "cell_type": "code",
      "execution_count": 35,
      "metadata": {},
      "outputs": [
        {
          "name": "stderr",
          "output_type": "stream",
          "text": [
            "100%|██████████| 10400/10400 [00:01<00:00, 8373.39it/s]\n"
          ]
        }
      ],
      "source": [
        "L_train = applier.apply(df=df_train)\n"
      ]
    },
    {
      "cell_type": "code",
      "execution_count": 36,
      "metadata": {
        "id": "hEZwm0OGpwYG",
        "outputId": "a7a80fd0-ae7c-404b-c5e6-6dd30670eb98"
      },
      "outputs": [
        {
          "data": {
            "text/plain": [
              "array([[0, 0, 0, ..., 0, 0, 0],\n",
              "       [0, 0, 0, ..., 0, 0, 0],\n",
              "       [0, 0, 0, ..., 0, 0, 0],\n",
              "       ...,\n",
              "       [0, 0, 0, ..., 0, 0, 0],\n",
              "       [0, 1, 0, ..., 0, 0, 0],\n",
              "       [0, 0, 0, ..., 0, 0, 0]])"
            ]
          },
          "execution_count": 36,
          "metadata": {},
          "output_type": "execute_result"
        }
      ],
      "source": [
        "L_train\n"
      ]
    },
    {
      "cell_type": "markdown",
      "metadata": {},
      "source": [
        "# analyzes label functions\n"
      ]
    },
    {
      "cell_type": "code",
      "execution_count": 37,
      "metadata": {
        "id": "stiFgHwlpwYH",
        "outputId": "257b283a-07d3-43b6-9f64-c8c4626ab5a2"
      },
      "outputs": [
        {
          "data": {
            "text/html": [
              "<div>\n",
              "<style scoped>\n",
              "    .dataframe tbody tr th:only-of-type {\n",
              "        vertical-align: middle;\n",
              "    }\n",
              "\n",
              "    .dataframe tbody tr th {\n",
              "        vertical-align: top;\n",
              "    }\n",
              "\n",
              "    .dataframe thead th {\n",
              "        text-align: right;\n",
              "    }\n",
              "</style>\n",
              "<table border=\"1\" class=\"dataframe\">\n",
              "  <thead>\n",
              "    <tr style=\"text-align: right;\">\n",
              "      <th></th>\n",
              "      <th>j</th>\n",
              "      <th>Polarity</th>\n",
              "      <th>Coverage</th>\n",
              "      <th>Overlaps</th>\n",
              "      <th>Conflicts</th>\n",
              "    </tr>\n",
              "  </thead>\n",
              "  <tbody>\n",
              "    <tr>\n",
              "      <th>label1</th>\n",
              "      <td>0</td>\n",
              "      <td>[0, 1]</td>\n",
              "      <td>1.000000</td>\n",
              "      <td>1.000000</td>\n",
              "      <td>1.000000</td>\n",
              "    </tr>\n",
              "    <tr>\n",
              "      <th>label2</th>\n",
              "      <td>1</td>\n",
              "      <td>[0, 1]</td>\n",
              "      <td>1.000000</td>\n",
              "      <td>1.000000</td>\n",
              "      <td>1.000000</td>\n",
              "    </tr>\n",
              "    <tr>\n",
              "      <th>label3</th>\n",
              "      <td>2</td>\n",
              "      <td>[0, 1]</td>\n",
              "      <td>1.000000</td>\n",
              "      <td>1.000000</td>\n",
              "      <td>1.000000</td>\n",
              "    </tr>\n",
              "    <tr>\n",
              "      <th>label4</th>\n",
              "      <td>3</td>\n",
              "      <td>[0, 1]</td>\n",
              "      <td>1.000000</td>\n",
              "      <td>1.000000</td>\n",
              "      <td>1.000000</td>\n",
              "    </tr>\n",
              "    <tr>\n",
              "      <th>label5</th>\n",
              "      <td>4</td>\n",
              "      <td>[0, 1]</td>\n",
              "      <td>1.000000</td>\n",
              "      <td>1.000000</td>\n",
              "      <td>1.000000</td>\n",
              "    </tr>\n",
              "    <tr>\n",
              "      <th>label6</th>\n",
              "      <td>5</td>\n",
              "      <td>[0, 1]</td>\n",
              "      <td>1.000000</td>\n",
              "      <td>1.000000</td>\n",
              "      <td>1.000000</td>\n",
              "    </tr>\n",
              "    <tr>\n",
              "      <th>label7</th>\n",
              "      <td>6</td>\n",
              "      <td>[0]</td>\n",
              "      <td>0.992885</td>\n",
              "      <td>0.992885</td>\n",
              "      <td>0.992885</td>\n",
              "    </tr>\n",
              "    <tr>\n",
              "      <th>label8</th>\n",
              "      <td>7</td>\n",
              "      <td>[0]</td>\n",
              "      <td>0.989519</td>\n",
              "      <td>0.989519</td>\n",
              "      <td>0.989519</td>\n",
              "    </tr>\n",
              "    <tr>\n",
              "      <th>label9</th>\n",
              "      <td>8</td>\n",
              "      <td>[0]</td>\n",
              "      <td>0.988077</td>\n",
              "      <td>0.988077</td>\n",
              "      <td>0.988077</td>\n",
              "    </tr>\n",
              "    <tr>\n",
              "      <th>label10</th>\n",
              "      <td>9</td>\n",
              "      <td>[0]</td>\n",
              "      <td>0.989712</td>\n",
              "      <td>0.989712</td>\n",
              "      <td>0.989712</td>\n",
              "    </tr>\n",
              "  </tbody>\n",
              "</table>\n",
              "</div>"
            ],
            "text/plain": [
              "         j Polarity  Coverage  Overlaps  Conflicts\n",
              "label1   0   [0, 1]  1.000000  1.000000   1.000000\n",
              "label2   1   [0, 1]  1.000000  1.000000   1.000000\n",
              "label3   2   [0, 1]  1.000000  1.000000   1.000000\n",
              "label4   3   [0, 1]  1.000000  1.000000   1.000000\n",
              "label5   4   [0, 1]  1.000000  1.000000   1.000000\n",
              "label6   5   [0, 1]  1.000000  1.000000   1.000000\n",
              "label7   6      [0]  0.992885  0.992885   0.992885\n",
              "label8   7      [0]  0.989519  0.989519   0.989519\n",
              "label9   8      [0]  0.988077  0.988077   0.988077\n",
              "label10  9      [0]  0.989712  0.989712   0.989712"
            ]
          },
          "execution_count": 37,
          "metadata": {},
          "output_type": "execute_result"
        }
      ],
      "source": [
        "LFAnalysis(L=L_train, lfs=lfs).lf_summary()\n"
      ]
    },
    {
      "cell_type": "markdown",
      "metadata": {},
      "source": [
        "# labels model"
      ]
    },
    {
      "cell_type": "code",
      "execution_count": 38,
      "metadata": {
        "id": "bejiWbhSpwYH",
        "outputId": "fd12a7aa-d330-4572-911e-bdd933504c99"
      },
      "outputs": [
        {
          "name": "stderr",
          "output_type": "stream",
          "text": [
            "INFO:root:Computing O...\n",
            "INFO:root:Estimating \\mu...\n",
            "  0%|          | 0/500 [00:00<?, ?epoch/s]INFO:root:[0 epochs]: TRAIN:[loss=57.715]\n",
            "INFO:root:[100 epochs]: TRAIN:[loss=0.012]\n",
            " 26%|██▋       | 132/500 [00:00<00:00, 1310.16epoch/s]INFO:root:[200 epochs]: TRAIN:[loss=0.004]\n",
            " 57%|█████▋    | 284/500 [00:00<00:00, 1432.67epoch/s]INFO:root:[300 epochs]: TRAIN:[loss=0.002]\n",
            "INFO:root:[400 epochs]: TRAIN:[loss=0.001]\n",
            "100%|██████████| 500/500 [00:00<00:00, 1396.88epoch/s]\n",
            "INFO:root:Finished Training\n"
          ]
        }
      ],
      "source": [
        "label_model = LabelModel(cardinality=2, verbose=True)\n",
        "label_model.fit(L_train=L_train, n_epochs=500, log_freq=100, seed=123)\n"
      ]
    },
    {
      "cell_type": "code",
      "execution_count": 39,
      "metadata": {
        "id": "D1MjN8iDpwYI",
        "outputId": "46937718-5ae0-49c7-a25c-b0046b511c69"
      },
      "outputs": [
        {
          "data": {
            "text/html": [
              "<div>\n",
              "<style scoped>\n",
              "    .dataframe tbody tr th:only-of-type {\n",
              "        vertical-align: middle;\n",
              "    }\n",
              "\n",
              "    .dataframe tbody tr th {\n",
              "        vertical-align: top;\n",
              "    }\n",
              "\n",
              "    .dataframe thead th {\n",
              "        text-align: right;\n",
              "    }\n",
              "</style>\n",
              "<table border=\"1\" class=\"dataframe\">\n",
              "  <thead>\n",
              "    <tr style=\"text-align: right;\">\n",
              "      <th></th>\n",
              "      <th>text</th>\n",
              "    </tr>\n",
              "  </thead>\n",
              "  <tbody>\n",
              "    <tr>\n",
              "      <th>3809</th>\n",
              "      <td>'Eu tô gripada pra caramba, pode até se covid ...</td>\n",
              "    </tr>\n",
              "    <tr>\n",
              "      <th>2306</th>\n",
              "      <td>'Covid-19: estudo mostra sucesso de inibidores...</td>\n",
              "    </tr>\n",
              "    <tr>\n",
              "      <th>8684</th>\n",
              "      <td>'Esse ano eu ia curtir Carnaval pq finalmente ...</td>\n",
              "    </tr>\n",
              "    <tr>\n",
              "      <th>2374</th>\n",
              "      <td>'🗞️ Secretaria de Saúde orienta cuidados contr...</td>\n",
              "    </tr>\n",
              "    <tr>\n",
              "      <th>9234</th>\n",
              "      <td>'Brasil, 25 de fevereiro de 2022.\\nPaciente ac...</td>\n",
              "    </tr>\n",
              "  </tbody>\n",
              "</table>\n",
              "</div>"
            ],
            "text/plain": [
              "                                                   text\n",
              "3809  'Eu tô gripada pra caramba, pode até se covid ...\n",
              "2306  'Covid-19: estudo mostra sucesso de inibidores...\n",
              "8684  'Esse ano eu ia curtir Carnaval pq finalmente ...\n",
              "2374  '🗞️ Secretaria de Saúde orienta cuidados contr...\n",
              "9234  'Brasil, 25 de fevereiro de 2022.\\nPaciente ac..."
            ]
          },
          "execution_count": 39,
          "metadata": {},
          "output_type": "execute_result"
        }
      ],
      "source": [
        "df_train.head()\n"
      ]
    },
    {
      "cell_type": "code",
      "execution_count": 40,
      "metadata": {
        "id": "y76JQqIMpwYI",
        "outputId": "4bb1b87c-e7fb-44aa-868b-8c25ce7864fe"
      },
      "outputs": [
        {
          "name": "stderr",
          "output_type": "stream",
          "text": [
            "/var/folders/47/2r15btws4hl473544pb4_s700000gp/T/ipykernel_37396/402419057.py:1: SettingWithCopyWarning: \n",
            "A value is trying to be set on a copy of a slice from a DataFrame.\n",
            "Try using .loc[row_indexer,col_indexer] = value instead\n",
            "\n",
            "See the caveats in the documentation: https://pandas.pydata.org/pandas-docs/stable/user_guide/indexing.html#returning-a-view-versus-a-copy\n",
            "  df_train['Labels'] = label_model.predict(L=L_train, tie_break_policy=\"abstain\")\n"
          ]
        }
      ],
      "source": [
        "df_train['Labels'] = label_model.predict(L=L_train, tie_break_policy=\"abstain\")\n"
      ]
    },
    {
      "cell_type": "code",
      "execution_count": 41,
      "metadata": {
        "id": "B-cCv7U5pwYJ",
        "outputId": "504ae03d-e456-4c27-c1dd-8f86ae84aefc"
      },
      "outputs": [
        {
          "data": {
            "text/html": [
              "<div>\n",
              "<style scoped>\n",
              "    .dataframe tbody tr th:only-of-type {\n",
              "        vertical-align: middle;\n",
              "    }\n",
              "\n",
              "    .dataframe tbody tr th {\n",
              "        vertical-align: top;\n",
              "    }\n",
              "\n",
              "    .dataframe thead th {\n",
              "        text-align: right;\n",
              "    }\n",
              "</style>\n",
              "<table border=\"1\" class=\"dataframe\">\n",
              "  <thead>\n",
              "    <tr style=\"text-align: right;\">\n",
              "      <th></th>\n",
              "      <th>text</th>\n",
              "      <th>Labels</th>\n",
              "    </tr>\n",
              "  </thead>\n",
              "  <tbody>\n",
              "    <tr>\n",
              "      <th>3809</th>\n",
              "      <td>'Eu tô gripada pra caramba, pode até se covid ...</td>\n",
              "      <td>0</td>\n",
              "    </tr>\n",
              "    <tr>\n",
              "      <th>2306</th>\n",
              "      <td>'Covid-19: estudo mostra sucesso de inibidores...</td>\n",
              "      <td>0</td>\n",
              "    </tr>\n",
              "    <tr>\n",
              "      <th>8684</th>\n",
              "      <td>'Esse ano eu ia curtir Carnaval pq finalmente ...</td>\n",
              "      <td>0</td>\n",
              "    </tr>\n",
              "    <tr>\n",
              "      <th>2374</th>\n",
              "      <td>'🗞️ Secretaria de Saúde orienta cuidados contr...</td>\n",
              "      <td>0</td>\n",
              "    </tr>\n",
              "    <tr>\n",
              "      <th>9234</th>\n",
              "      <td>'Brasil, 25 de fevereiro de 2022.\\nPaciente ac...</td>\n",
              "      <td>0</td>\n",
              "    </tr>\n",
              "    <tr>\n",
              "      <th>...</th>\n",
              "      <td>...</td>\n",
              "      <td>...</td>\n",
              "    </tr>\n",
              "    <tr>\n",
              "      <th>7763</th>\n",
              "      <td>'Semaninha complicada , até achei que estava c...</td>\n",
              "      <td>0</td>\n",
              "    </tr>\n",
              "    <tr>\n",
              "      <th>5218</th>\n",
              "      <td>'Na real q foi assim*\\n\\nPré escola = guerra\\n...</td>\n",
              "      <td>0</td>\n",
              "    </tr>\n",
              "    <tr>\n",
              "      <th>12252</th>\n",
              "      <td>'@rafaelatsh A cabeça pós covid \\U0001f972'</td>\n",
              "      <td>0</td>\n",
              "    </tr>\n",
              "    <tr>\n",
              "      <th>1346</th>\n",
              "      <td>'@chrisgonzatti Sem Bolsonaro. Sem Covid. Sem ...</td>\n",
              "      <td>0</td>\n",
              "    </tr>\n",
              "    <tr>\n",
              "      <th>11646</th>\n",
              "      <td>'Gente, mas e o covid?\\n\\nAcabou??'</td>\n",
              "      <td>0</td>\n",
              "    </tr>\n",
              "  </tbody>\n",
              "</table>\n",
              "<p>10400 rows × 2 columns</p>\n",
              "</div>"
            ],
            "text/plain": [
              "                                                    text  Labels\n",
              "3809   'Eu tô gripada pra caramba, pode até se covid ...       0\n",
              "2306   'Covid-19: estudo mostra sucesso de inibidores...       0\n",
              "8684   'Esse ano eu ia curtir Carnaval pq finalmente ...       0\n",
              "2374   '🗞️ Secretaria de Saúde orienta cuidados contr...       0\n",
              "9234   'Brasil, 25 de fevereiro de 2022.\\nPaciente ac...       0\n",
              "...                                                  ...     ...\n",
              "7763   'Semaninha complicada , até achei que estava c...       0\n",
              "5218   'Na real q foi assim*\\n\\nPré escola = guerra\\n...       0\n",
              "12252        '@rafaelatsh A cabeça pós covid \\U0001f972'       0\n",
              "1346   '@chrisgonzatti Sem Bolsonaro. Sem Covid. Sem ...       0\n",
              "11646                'Gente, mas e o covid?\\n\\nAcabou??'       0\n",
              "\n",
              "[10400 rows x 2 columns]"
            ]
          },
          "execution_count": 41,
          "metadata": {},
          "output_type": "execute_result"
        }
      ],
      "source": [
        "df_train.query('Labels == 0')\n"
      ]
    }
  ],
  "metadata": {
    "colab": {
      "collapsed_sections": [],
      "name": "LFs-Covid.ipynb",
      "provenance": []
    },
    "interpreter": {
      "hash": "916dbcbb3f70747c44a77c7bcd40155683ae19c65e1c03b4aa3499c5328201f1"
    },
    "kernelspec": {
      "display_name": "Python 3.8.10 64-bit",
      "language": "python",
      "name": "python3"
    },
    "language_info": {
      "codemirror_mode": {
        "name": "ipython",
        "version": 3
      },
      "file_extension": ".py",
      "mimetype": "text/x-python",
      "name": "python",
      "nbconvert_exporter": "python",
      "pygments_lexer": "ipython3",
      "version": "3.9.12"
    },
    "orig_nbformat": 4
  },
  "nbformat": 4,
  "nbformat_minor": 0
}
