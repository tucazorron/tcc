{
 "cells": [
  {
   "cell_type": "markdown",
   "metadata": {},
   "source": [
    "# Imports libs"
   ]
  },
  {
   "cell_type": "code",
   "execution_count": 1,
   "metadata": {},
   "outputs": [],
   "source": [
    "import pandas as pd\n",
    "import random\n",
    "from snorkel.labeling import labeling_function"
   ]
  },
  {
   "cell_type": "markdown",
   "metadata": {},
   "source": [
    "# Populates database\n",
    "\n",
    "https://drive.google.com/drive/u/0/folders/1l4Sglxenwaa7HYzWDQJQuB5t_iGyuA3t"
   ]
  },
  {
   "cell_type": "code",
   "execution_count": 6,
   "metadata": {},
   "outputs": [],
   "source": [
    "base = 'database.txt'\n",
    "data = pd.read_csv(base, sep='\\t', header=None)"
   ]
  },
  {
   "cell_type": "code",
   "execution_count": 7,
   "metadata": {},
   "outputs": [
    {
     "data": {
      "text/html": [
       "<div>\n",
       "<style scoped>\n",
       "    .dataframe tbody tr th:only-of-type {\n",
       "        vertical-align: middle;\n",
       "    }\n",
       "\n",
       "    .dataframe tbody tr th {\n",
       "        vertical-align: top;\n",
       "    }\n",
       "\n",
       "    .dataframe thead th {\n",
       "        text-align: right;\n",
       "    }\n",
       "</style>\n",
       "<table border=\"1\" class=\"dataframe\">\n",
       "  <thead>\n",
       "    <tr style=\"text-align: right;\">\n",
       "      <th></th>\n",
       "      <th>0</th>\n",
       "    </tr>\n",
       "  </thead>\n",
       "  <tbody>\n",
       "    <tr>\n",
       "      <th>0</th>\n",
       "      <td>'@galliyanamiteva kkkkkkkkkk eu sou bue caseir...</td>\n",
       "    </tr>\n",
       "    <tr>\n",
       "      <th>1</th>\n",
       "      <td>'Covid-19: Brasil tem 28,7 milhões de casos e ...</td>\n",
       "    </tr>\n",
       "    <tr>\n",
       "      <th>2</th>\n",
       "      <td>'A mesma globo que recentemente defendia o iso...</td>\n",
       "    </tr>\n",
       "    <tr>\n",
       "      <th>3</th>\n",
       "      <td>'Covid era altura de fazeres a tua parte e aju...</td>\n",
       "    </tr>\n",
       "    <tr>\n",
       "      <th>4</th>\n",
       "      <td>'Feriadão prolongado desse e não vou poder ver...</td>\n",
       "    </tr>\n",
       "    <tr>\n",
       "      <th>...</th>\n",
       "      <td>...</td>\n",
       "    </tr>\n",
       "    <tr>\n",
       "      <th>5000095</th>\n",
       "      <td>'@Pequenaquenga É tipo o teste do covid, fazia...</td>\n",
       "    </tr>\n",
       "    <tr>\n",
       "      <th>5000096</th>\n",
       "      <td>'#Cloroquina | Ex-ministro Mandetta reafirmou ...</td>\n",
       "    </tr>\n",
       "    <tr>\n",
       "      <th>5000097</th>\n",
       "      <td>'covid vai embora nunca?'</td>\n",
       "    </tr>\n",
       "    <tr>\n",
       "      <th>5000098</th>\n",
       "      <td>'Dia até agora constrangedor na CPI. Senadores...</td>\n",
       "    </tr>\n",
       "    <tr>\n",
       "      <th>5000099</th>\n",
       "      <td>'é o 3º aluno da minha prof que morr3u esse an...</td>\n",
       "    </tr>\n",
       "  </tbody>\n",
       "</table>\n",
       "<p>5000100 rows × 1 columns</p>\n",
       "</div>"
      ],
      "text/plain": [
       "                                                         0\n",
       "0        '@galliyanamiteva kkkkkkkkkk eu sou bue caseir...\n",
       "1        'Covid-19: Brasil tem 28,7 milhões de casos e ...\n",
       "2        'A mesma globo que recentemente defendia o iso...\n",
       "3        'Covid era altura de fazeres a tua parte e aju...\n",
       "4        'Feriadão prolongado desse e não vou poder ver...\n",
       "...                                                    ...\n",
       "5000095  '@Pequenaquenga É tipo o teste do covid, fazia...\n",
       "5000096  '#Cloroquina | Ex-ministro Mandetta reafirmou ...\n",
       "5000097                          'covid vai embora nunca?'\n",
       "5000098  'Dia até agora constrangedor na CPI. Senadores...\n",
       "5000099  'é o 3º aluno da minha prof que morr3u esse an...\n",
       "\n",
       "[5000100 rows x 1 columns]"
      ]
     },
     "execution_count": 7,
     "metadata": {},
     "output_type": "execute_result"
    }
   ],
   "source": [
    "data"
   ]
  }
 ],
 "metadata": {
  "interpreter": {
   "hash": "aee8b7b246df8f9039afb4144a1f6fd8d2ca17a180786b69acc140d282b71a49"
  },
  "kernelspec": {
   "display_name": "Python 3.9.12 64-bit",
   "language": "python",
   "name": "python3"
  },
  "language_info": {
   "codemirror_mode": {
    "name": "ipython",
    "version": 3
   },
   "file_extension": ".py",
   "mimetype": "text/x-python",
   "name": "python",
   "nbconvert_exporter": "python",
   "pygments_lexer": "ipython3",
   "version": "3.9.12"
  },
  "orig_nbformat": 4
 },
 "nbformat": 4,
 "nbformat_minor": 2
}
